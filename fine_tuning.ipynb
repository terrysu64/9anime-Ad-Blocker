{
  "nbformat": 4,
  "nbformat_minor": 0,
  "metadata": {
    "colab": {
      "name": "fine-tuning.ipynb",
      "provenance": [],
      "collapsed_sections": [],
      "authorship_tag": "ABX9TyO1ARs/Lp75TO5qd3LmG610",
      "include_colab_link": true
    },
    "kernelspec": {
      "name": "python3",
      "display_name": "Python 3"
    },
    "language_info": {
      "name": "python"
    },
    "accelerator": "GPU",
    "gpuClass": "standard"
  },
  "cells": [
    {
      "cell_type": "markdown",
      "metadata": {
        "id": "view-in-github",
        "colab_type": "text"
      },
      "source": [
        "<a href=\"https://colab.research.google.com/github/terrysu64/9anime-Ad-Blocker/blob/main/fine_tuning.ipynb\" target=\"_parent\"><img src=\"https://colab.research.google.com/assets/colab-badge.svg\" alt=\"Open In Colab\"/></a>"
      ]
    },
    {
      "cell_type": "markdown",
      "source": [
        "# Transfer Learning - fine-tuning"
      ],
      "metadata": {
        "id": "lYASeTr98MbL"
      }
    },
    {
      "cell_type": "code",
      "execution_count": null,
      "metadata": {
        "colab": {
          "base_uri": "https://localhost:8080/"
        },
        "id": "xd0zmfgz8JAd",
        "outputId": "a5544b88-41a4-4bf7-a1d5-63b95567f3d0"
      },
      "outputs": [
        {
          "output_type": "stream",
          "name": "stdout",
          "text": [
            "Mon Aug  8 19:57:53 2022       \n",
            "+-----------------------------------------------------------------------------+\n",
            "| NVIDIA-SMI 460.32.03    Driver Version: 460.32.03    CUDA Version: 11.2     |\n",
            "|-------------------------------+----------------------+----------------------+\n",
            "| GPU  Name        Persistence-M| Bus-Id        Disp.A | Volatile Uncorr. ECC |\n",
            "| Fan  Temp  Perf  Pwr:Usage/Cap|         Memory-Usage | GPU-Util  Compute M. |\n",
            "|                               |                      |               MIG M. |\n",
            "|===============================+======================+======================|\n",
            "|   0  Tesla T4            Off  | 00000000:00:04.0 Off |                    0 |\n",
            "| N/A   64C    P8    12W /  70W |      0MiB / 15109MiB |      0%      Default |\n",
            "|                               |                      |                  N/A |\n",
            "+-------------------------------+----------------------+----------------------+\n",
            "                                                                               \n",
            "+-----------------------------------------------------------------------------+\n",
            "| Processes:                                                                  |\n",
            "|  GPU   GI   CI        PID   Type   Process name                  GPU Memory |\n",
            "|        ID   ID                                                   Usage      |\n",
            "|=============================================================================|\n",
            "|  No running processes found                                                 |\n",
            "+-----------------------------------------------------------------------------+\n"
          ]
        }
      ],
      "source": [
        "!nvidia-smi"
      ]
    },
    {
      "cell_type": "markdown",
      "source": [
        "### import helper functions"
      ],
      "metadata": {
        "id": "9S4nL7NI9GfD"
      }
    },
    {
      "cell_type": "code",
      "source": [
        "!wget https://raw.githubusercontent.com/mrdbourke/tensorflow-deep-learning/main/extras/helper_functions.py"
      ],
      "metadata": {
        "colab": {
          "base_uri": "https://localhost:8080/"
        },
        "id": "iKN0pYAu8UF6",
        "outputId": "b560fa65-d7c0-46cd-a2d9-5f42bdc7a479"
      },
      "execution_count": null,
      "outputs": [
        {
          "output_type": "stream",
          "name": "stdout",
          "text": [
            "--2022-08-08 19:57:54--  https://raw.githubusercontent.com/mrdbourke/tensorflow-deep-learning/main/extras/helper_functions.py\n",
            "Resolving raw.githubusercontent.com (raw.githubusercontent.com)... 185.199.108.133, 185.199.109.133, 185.199.110.133, ...\n",
            "Connecting to raw.githubusercontent.com (raw.githubusercontent.com)|185.199.108.133|:443... connected.\n",
            "HTTP request sent, awaiting response... 200 OK\n",
            "Length: 10246 (10K) [text/plain]\n",
            "Saving to: ‘helper_functions.py’\n",
            "\n",
            "helper_functions.py 100%[===================>]  10.01K  --.-KB/s    in 0s      \n",
            "\n",
            "2022-08-08 19:57:54 (64.5 MB/s) - ‘helper_functions.py’ saved [10246/10246]\n",
            "\n"
          ]
        }
      ]
    },
    {
      "cell_type": "code",
      "source": [
        "from helper_functions import create_tensorboard_callback, plot_loss_curves, unzip_data, walk_through_dir"
      ],
      "metadata": {
        "id": "THWyiI7s9Bis"
      },
      "execution_count": null,
      "outputs": []
    },
    {
      "cell_type": "markdown",
      "source": [
        "### get data"
      ],
      "metadata": {
        "id": "176RHEWr-C7W"
      }
    },
    {
      "cell_type": "code",
      "source": [
        "!wget https://storage.googleapis.com/ztm_tf_course/food_vision/10_food_classes_10_percent.zip\n",
        "\n",
        "unzip_data(\"10_food_classes_10_percent.zip\")"
      ],
      "metadata": {
        "colab": {
          "base_uri": "https://localhost:8080/"
        },
        "id": "aMMtIjnO9w7S",
        "outputId": "21648d0b-13cf-4daf-d7ec-6cc37c629228"
      },
      "execution_count": null,
      "outputs": [
        {
          "output_type": "stream",
          "name": "stdout",
          "text": [
            "--2022-08-08 19:57:57--  https://storage.googleapis.com/ztm_tf_course/food_vision/10_food_classes_10_percent.zip\n",
            "Resolving storage.googleapis.com (storage.googleapis.com)... 74.125.200.128, 74.125.68.128, 74.125.24.128, ...\n",
            "Connecting to storage.googleapis.com (storage.googleapis.com)|74.125.200.128|:443... connected.\n",
            "HTTP request sent, awaiting response... 200 OK\n",
            "Length: 168546183 (161M) [application/zip]\n",
            "Saving to: ‘10_food_classes_10_percent.zip’\n",
            "\n",
            "10_food_classes_10_ 100%[===================>] 160.74M  54.4MB/s    in 3.0s    \n",
            "\n",
            "2022-08-08 19:58:00 (54.4 MB/s) - ‘10_food_classes_10_percent.zip’ saved [168546183/168546183]\n",
            "\n"
          ]
        }
      ]
    },
    {
      "cell_type": "code",
      "source": [
        "walk_through_dir(\"10_food_classes_10_percent\")"
      ],
      "metadata": {
        "colab": {
          "base_uri": "https://localhost:8080/"
        },
        "id": "uzbJxufD-RBO",
        "outputId": "69e4be6e-a345-4894-e0a4-0fa6eeddfc1d"
      },
      "execution_count": null,
      "outputs": [
        {
          "output_type": "stream",
          "name": "stdout",
          "text": [
            "There are 2 directories and 0 images in '10_food_classes_10_percent'.\n",
            "There are 10 directories and 0 images in '10_food_classes_10_percent/test'.\n",
            "There are 0 directories and 250 images in '10_food_classes_10_percent/test/sushi'.\n",
            "There are 0 directories and 250 images in '10_food_classes_10_percent/test/chicken_wings'.\n",
            "There are 0 directories and 250 images in '10_food_classes_10_percent/test/grilled_salmon'.\n",
            "There are 0 directories and 250 images in '10_food_classes_10_percent/test/hamburger'.\n",
            "There are 0 directories and 250 images in '10_food_classes_10_percent/test/fried_rice'.\n",
            "There are 0 directories and 250 images in '10_food_classes_10_percent/test/pizza'.\n",
            "There are 0 directories and 250 images in '10_food_classes_10_percent/test/chicken_curry'.\n",
            "There are 0 directories and 250 images in '10_food_classes_10_percent/test/steak'.\n",
            "There are 0 directories and 250 images in '10_food_classes_10_percent/test/ramen'.\n",
            "There are 0 directories and 250 images in '10_food_classes_10_percent/test/ice_cream'.\n",
            "There are 10 directories and 0 images in '10_food_classes_10_percent/train'.\n",
            "There are 0 directories and 75 images in '10_food_classes_10_percent/train/sushi'.\n",
            "There are 0 directories and 75 images in '10_food_classes_10_percent/train/chicken_wings'.\n",
            "There are 0 directories and 75 images in '10_food_classes_10_percent/train/grilled_salmon'.\n",
            "There are 0 directories and 75 images in '10_food_classes_10_percent/train/hamburger'.\n",
            "There are 0 directories and 75 images in '10_food_classes_10_percent/train/fried_rice'.\n",
            "There are 0 directories and 75 images in '10_food_classes_10_percent/train/pizza'.\n",
            "There are 0 directories and 75 images in '10_food_classes_10_percent/train/chicken_curry'.\n",
            "There are 0 directories and 75 images in '10_food_classes_10_percent/train/steak'.\n",
            "There are 0 directories and 75 images in '10_food_classes_10_percent/train/ramen'.\n",
            "There are 0 directories and 75 images in '10_food_classes_10_percent/train/ice_cream'.\n"
          ]
        }
      ]
    },
    {
      "cell_type": "code",
      "source": [
        "train_dir = \"10_food_classes_10_percent/train\"\n",
        "test_dir = \"10_food_classes_10_percent/test\""
      ],
      "metadata": {
        "id": "SlhVkRN7-Xkg"
      },
      "execution_count": null,
      "outputs": []
    },
    {
      "cell_type": "code",
      "source": [
        "import tensorflow as tf\n",
        "IMG_SIZE = (225,225); BATCH_SIZE = 32\n",
        "train_data = tf.keras.preprocessing.image_dataset_from_directory(directory=train_dir,\n",
        "                                                                 image_size=IMG_SIZE,\n",
        "                                                                 label_mode=\"categorical\",\n",
        "                                                                 batch_size=BATCH_SIZE)\n",
        "test_data = tf.keras.preprocessing.image_dataset_from_directory(directory=test_dir,\n",
        "                                                                 image_size=IMG_SIZE,\n",
        "                                                                 label_mode=\"categorical\",\n",
        "                                                                 batch_size=BATCH_SIZE)"
      ],
      "metadata": {
        "colab": {
          "base_uri": "https://localhost:8080/"
        },
        "id": "86Jre-Fb-3IJ",
        "outputId": "adce8615-452c-449f-f481-79d8bfc543a2"
      },
      "execution_count": null,
      "outputs": [
        {
          "output_type": "stream",
          "name": "stdout",
          "text": [
            "Found 750 files belonging to 10 classes.\n",
            "Found 2500 files belonging to 10 classes.\n"
          ]
        }
      ]
    },
    {
      "cell_type": "code",
      "source": [
        "train_data, train_data.class_names"
      ],
      "metadata": {
        "colab": {
          "base_uri": "https://localhost:8080/"
        },
        "id": "g7JWyQe7_QT0",
        "outputId": "dd7b1c2a-fcaf-4af2-acc2-3427b5db0e7e"
      },
      "execution_count": null,
      "outputs": [
        {
          "output_type": "execute_result",
          "data": {
            "text/plain": [
              "(<BatchDataset element_spec=(TensorSpec(shape=(None, 225, 225, 3), dtype=tf.float32, name=None), TensorSpec(shape=(None, 10), dtype=tf.float32, name=None))>,\n",
              " ['chicken_curry',\n",
              "  'chicken_wings',\n",
              "  'fried_rice',\n",
              "  'grilled_salmon',\n",
              "  'hamburger',\n",
              "  'ice_cream',\n",
              "  'pizza',\n",
              "  'ramen',\n",
              "  'steak',\n",
              "  'sushi'])"
            ]
          },
          "metadata": {},
          "execution_count": 8
        }
      ]
    },
    {
      "cell_type": "code",
      "source": [
        "#visualize a batch\n",
        "for imgs, labels in train_data.take(1):\n",
        "  print(imgs, labels)"
      ],
      "metadata": {
        "colab": {
          "base_uri": "https://localhost:8080/"
        },
        "id": "6OjZttuo_Wlf",
        "outputId": "ea552984-4f7f-4bd0-d2a8-9dc56a4aafaf"
      },
      "execution_count": null,
      "outputs": [
        {
          "output_type": "stream",
          "name": "stdout",
          "text": [
            "tf.Tensor(\n",
            "[[[[154.08182    179.08182    233.08182   ]\n",
            "   [152.91333    177.91333    231.91333   ]\n",
            "   [154.39719    179.39719    233.39719   ]\n",
            "   ...\n",
            "   [ 47.977844    50.977844    67.400085  ]\n",
            "   [ 40.49899     44.072323    57.35232   ]\n",
            "   [ 35.828045    39.828045    49.25468   ]]\n",
            "\n",
            "  [[168.22       195.22       248.22      ]\n",
            "   [167.8303     194.8303     247.8303    ]\n",
            "   [166.59557    193.59557    246.59557   ]\n",
            "   ...\n",
            "   [ 49.276825    52.276825    67.276825  ]\n",
            "   [ 40.18302     43.756355    57.036354  ]\n",
            "   [ 33.649044    40.22241     50.506832  ]]\n",
            "\n",
            "  [[171.5008     199.06746    253.87857   ]\n",
            "   [170.16785    197.73451    252.54562   ]\n",
            "   [169.81111    197.37778    252.18889   ]\n",
            "   ...\n",
            "   [ 51.078796    56.61017     70.03241   ]\n",
            "   [ 44.084293    49.392147    61.392147  ]\n",
            "   [ 36.973488    45.546852    54.973488  ]]\n",
            "\n",
            "  ...\n",
            "\n",
            "  [[ 14.264296    18.264296    20.886549  ]\n",
            "   [ 13.75176     17.510002    20.212841  ]\n",
            "   [ 15.413111    18.84649     21.657618  ]\n",
            "   ...\n",
            "   [ 22.367558    30.13324     33.70188   ]\n",
            "   [ 23.409412    31.063332    34.993286  ]\n",
            "   [ 21.877903    29.553877    31.345203  ]]\n",
            "\n",
            "  [[  7.5937595   12.5937605   16.59376   ]\n",
            "   [ 10.88669     15.88669     19.88669   ]\n",
            "   [ 12.545057    17.545057    21.545057  ]\n",
            "   ...\n",
            "   [ 17.454943    24.454943    30.454943  ]\n",
            "   [ 16.819977    23.819977    29.819977  ]\n",
            "   [ 14.900767    23.616344    28.758556  ]]\n",
            "\n",
            "  [[ 10.359174    15.359174    19.359175  ]\n",
            "   [ 21.487967    26.487967    30.487967  ]\n",
            "   [ 22.964176    27.964176    31.964176  ]\n",
            "   ...\n",
            "   [  7.1913757   15.191376    18.191376  ]\n",
            "   [  7.656661    15.291014    19.387955  ]\n",
            "   [  8.594609    17.361702    22.970823  ]]]\n",
            "\n",
            "\n",
            " [[[ 51.789642    40.789642    20.789639  ]\n",
            "   [ 51.57634     40.57634     20.576342  ]\n",
            "   [ 62.26644     48.888668    31.510887  ]\n",
            "   ...\n",
            "   [203.14526    196.65985    177.53938   ]\n",
            "   [188.98305    177.98305    156.6447    ]\n",
            "   [175.20676    163.20676    141.20676   ]]\n",
            "\n",
            "  [[ 62.14166     51.14166     31.14166   ]\n",
            "   [ 42.119156    31.119154    11.119155  ]\n",
            "   [ 59.343483    45.965702    28.587925  ]\n",
            "   ...\n",
            "   [184.85347    176.94014    156.11346   ]\n",
            "   [177.04243    164.88411    141.12158   ]\n",
            "   [166.22157    151.55241    127.55987   ]]\n",
            "\n",
            "  [[ 55.624912    44.624912    24.247135  ]\n",
            "   [ 48.669632    37.669632    17.669632  ]\n",
            "   [ 46.208767    32.642097    15.830987  ]\n",
            "   ...\n",
            "   [159.1333     144.47536    120.90871   ]\n",
            "   [155.66888    139.36058    114.11777   ]\n",
            "   [151.22263    133.65596    107.708     ]]\n",
            "\n",
            "  ...\n",
            "\n",
            "  [[188.9754     136.59766     77.84216   ]\n",
            "   [186.2501     133.87236     75.11687   ]\n",
            "   [182.19513    129.81738     71.06189   ]\n",
            "   ...\n",
            "   [ 92.168915    61.413418    37.071346  ]\n",
            "   [ 88.08583     61.811127    38.708923  ]\n",
            "   [ 86.53281     62.362244    39.811127  ]]\n",
            "\n",
            "  [[169.97664    124.32332     74.49666   ]\n",
            "   [164.25249    118.59917     68.77251   ]\n",
            "   [161.37778    115.72446     65.8978    ]\n",
            "   ...\n",
            "   [ 93.13973     66.41698     43.228107  ]\n",
            "   [ 92.34668     70.69336     47.52753   ]\n",
            "   [ 95.39397     77.56731     55.480637  ]]\n",
            "\n",
            "  [[153.66628    118.39076     71.11525   ]\n",
            "   [158.29933    123.02381     75.7483    ]\n",
            "   [159.99722    124.72171     77.4462    ]\n",
            "   ...\n",
            "   [105.50382     78.969086    56.299446  ]\n",
            "   [107.87446     87.19726     66.07919   ]\n",
            "   [128.17424    112.53648     89.53648   ]]]\n",
            "\n",
            "\n",
            " [[[164.61713    133.61713     76.61712   ]\n",
            "   [162.92085    131.92085     76.810295  ]\n",
            "   [159.8594     126.22432     75.99625   ]\n",
            "   ...\n",
            "   [ 84.33118     21.331173    12.331173  ]\n",
            "   [ 83.50335     21.755842    12.338344  ]\n",
            "   [ 85.73762     25.737617    15.7376175 ]]\n",
            "\n",
            "  [[169.93587    139.93587     77.44754   ]\n",
            "   [167.70996    137.63081     77.70995   ]\n",
            "   [161.7137     128.14703     74.62785   ]\n",
            "   ...\n",
            "   [ 84.43255     20.43255     11.432551  ]\n",
            "   [ 90.16336     26.329185    17.329185  ]\n",
            "   [ 89.59098     26.008493    17.008493  ]]\n",
            "\n",
            "  [[167.27286    138.08397     69.7062    ]\n",
            "   [165.18971    134.18971     69.89778   ]\n",
            "   [166.06198    133.49532     75.06197   ]\n",
            "   ...\n",
            "   [ 90.531006    23.153229    15.342117  ]\n",
            "   [ 96.7891      29.411325    21.600214  ]\n",
            "   [ 95.00192     27.624147    19.813036  ]]\n",
            "\n",
            "  ...\n",
            "\n",
            "  [[242.56937    218.56937    182.94711   ]\n",
            "   [240.18971    216.18971    182.0491    ]\n",
            "   [239.81111    214.81111    183.96432   ]\n",
            "   ...\n",
            "   [203.34102    148.89192     74.73872   ]\n",
            "   [189.48073    139.65407     69.465164  ]\n",
            "   [216.19168    171.29391    109.84503   ]]\n",
            "\n",
            "  [[241.25168    217.25168    179.25168   ]\n",
            "   [239.90582    215.90582    179.90582   ]\n",
            "   [238.01637    213.01637    182.20526   ]\n",
            "   ...\n",
            "   [188.64122    143.05255     69.498886  ]\n",
            "   [186.48997    136.64828     63.56913   ]\n",
            "   [202.62912    153.54245     86.69995   ]]\n",
            "\n",
            "  [[238.72443    215.72443    174.72443   ]\n",
            "   [238.79527    214.79527    178.62193   ]\n",
            "   [238.25731    213.18889    182.58305   ]\n",
            "   ...\n",
            "   [177.31099    136.53368     65.61488   ]\n",
            "   [187.12611    139.03944     63.039444  ]\n",
            "   [186.61162    133.24937     62.787323  ]]]\n",
            "\n",
            "\n",
            " ...\n",
            "\n",
            "\n",
            " [[[106.36222     54.36222     58.36222   ]\n",
            "   [105.08667     53.086666    57.086666  ]\n",
            "   [103.27556     53.275555    55.897778  ]\n",
            "   ...\n",
            "   [165.792      183.41426    183.41426   ]\n",
            "   [166.63779    184.63779    184.63779   ]\n",
            "   [167.9002     187.9002     186.9002    ]]\n",
            "\n",
            "  [[108.85806     53.85806     58.85806   ]\n",
            "   [105.25249     52.99249     57.079155  ]\n",
            "   [101.157776    51.017185    54.087482  ]\n",
            "   ...\n",
            "   [164.96243    182.58469    182.39581   ]\n",
            "   [168.26001    186.26001    186.26001   ]\n",
            "   [166.7483     186.7483     187.7483    ]]\n",
            "\n",
            "  [[102.74619     55.309357    58.        ]\n",
            "   [100.093925    55.18889     58.156147  ]\n",
            "   [ 97.14679     54.3421      59.        ]\n",
            "   ...\n",
            "   [167.12694    184.74919    184.56032   ]\n",
            "   [164.74081    182.74081    183.11859   ]\n",
            "   [168.38055    188.38055    189.38055   ]]\n",
            "\n",
            "  ...\n",
            "\n",
            "  [[161.65604     92.22265      6.0337768 ]\n",
            "   [155.18971     85.756325     0.37857547]\n",
            "   [160.41342     90.87302      5.56662   ]\n",
            "   ...\n",
            "   [115.81113     64.62225     12.188873  ]\n",
            "   [113.91333     62.91333      5.91333   ]\n",
            "   [113.4827      62.671574     5.2938256 ]]\n",
            "\n",
            "  [[159.89749     87.89748      3.9841487 ]\n",
            "   [161.05663     89.056625     5.0566278 ]\n",
            "   [158.88223     88.88223      3.8822317 ]\n",
            "   ...\n",
            "   [112.794754    61.605885     9.172503  ]\n",
            "   [114.          63.           9.841683  ]\n",
            "   [116.36224     65.36224     10.362244  ]]\n",
            "\n",
            "  [[152.72447     77.724464     0.        ]\n",
            "   [159.98418     86.731636     3.3224845 ]\n",
            "   [160.22346     88.60125      4.41236   ]\n",
            "   ...\n",
            "   [113.75909     61.75909     11.759089  ]\n",
            "   [112.968605    61.968605     8.968604  ]\n",
            "   [114.          63.          10.        ]]]\n",
            "\n",
            "\n",
            " [[[119.7548     107.7548     107.7548    ]\n",
            "   [121.73333    109.73333    109.73333   ]\n",
            "   [123.034      111.034      111.034     ]\n",
            "   ...\n",
            "   [ 79.10676     63.106762    63.91789   ]\n",
            "   [ 89.798874    74.798874    77.798874  ]\n",
            "   [ 77.45855     65.45855     69.45855   ]]\n",
            "\n",
            "  [[119.913376   107.913376   107.913376  ]\n",
            "   [120.96013    108.96013    108.96013   ]\n",
            "   [123.08689    111.08689    111.08689   ]\n",
            "   ...\n",
            "   [ 97.48469     81.48469     82.295815  ]\n",
            "   [ 84.48749     69.48749     72.48749   ]\n",
            "   [ 84.74797     72.74797     76.74797   ]]\n",
            "\n",
            "  [[120.1        108.1        108.1       ]\n",
            "   [120.1        108.1        108.1       ]\n",
            "   [123.17       111.17       111.17      ]\n",
            "   ...\n",
            "   [ 85.096634    69.096634    69.90776   ]\n",
            "   [ 93.372635    78.372635    81.372635  ]\n",
            "   [ 72.710205    60.710205    64.710205  ]]\n",
            "\n",
            "  ...\n",
            "\n",
            "  [[ 75.34958     69.34958     79.34958   ]\n",
            "   [ 78.96134     75.93534     84.94401   ]\n",
            "   [ 77.678894    76.84889     84.64888   ]\n",
            "   ...\n",
            "   [106.17326    103.17326    120.3355    ]\n",
            "   [108.11856    105.11856    126.11856   ]\n",
            "   [102.33618     98.43619    121.236176  ]]\n",
            "\n",
            "  [[ 80.65553     73.73555     85.115524  ]\n",
            "   [ 83.23381     78.6337      88.18036   ]\n",
            "   [ 81.321945    80.321945    85.86195   ]\n",
            "   ...\n",
            "   [ 94.191284    92.11127    109.353546  ]\n",
            "   [ 94.54694     91.54694    111.62696   ]\n",
            "   [ 94.44249     90.52251    111.062515  ]]\n",
            "\n",
            "  [[ 82.27556     74.27556     87.27556   ]\n",
            "   [ 86.82667     81.402275    89.24212   ]\n",
            "   [ 85.665115    84.15489     88.69022   ]\n",
            "   ...\n",
            "   [ 95.12363     94.58826    110.05563   ]\n",
            "   [ 93.91333     90.91333    109.91333   ]\n",
            "   [ 92.18878     87.18878    107.18878   ]]]\n",
            "\n",
            "\n",
            " [[[ 16.36222     27.36222     48.548702  ]\n",
            "   [ 11.378058    22.37806     40.55139   ]\n",
            "   [  9.          21.          35.        ]\n",
            "   ...\n",
            "   [ 20.467157    32.08941     56.65603   ]\n",
            "   [ 11.999996    25.031391    41.85054   ]\n",
            "   [ 10.59321     24.59321     36.868725  ]]\n",
            "\n",
            "  [[ 21.5436      28.88194     49.047764  ]\n",
            "   [ 15.339155    24.094177    41.440845  ]\n",
            "   [ 11.724445    20.551928    35.20689   ]\n",
            "   ...\n",
            "   [ 13.708044    23.53554     50.739952  ]\n",
            "   [  7.079155    20.079155    38.898304  ]\n",
            "   [  8.33085     21.362244    37.850544  ]]\n",
            "\n",
            "  [[ 12.826666    17.448889    36.74269   ]\n",
            "   [ 13.361408    17.98363     36.63859   ]\n",
            "   [ 19.413458    24.84679     40.72926   ]\n",
            "   ...\n",
            "   [  5.6841726   15.530975    42.837368  ]\n",
            "   [ 11.928074    21.998373    46.787476  ]\n",
            "   [ 10.860487    22.844952    44.32489   ]]\n",
            "\n",
            "  ...\n",
            "\n",
            "  [[ 18.240057    15.240058     9.862311  ]\n",
            "   [ 27.47435     24.47435     19.47435   ]\n",
            "   [ 23.46893     19.46893     16.46893   ]\n",
            "   ...\n",
            "   [ 22.43338     20.43338     21.43338   ]\n",
            "   [ 18.442389    16.442389    17.442389  ]\n",
            "   [ 13.789217    11.789217    12.789217  ]]\n",
            "\n",
            "  [[ 14.536384    11.536384     6.536384  ]\n",
            "   [ 20.596724    16.596724    13.596723  ]\n",
            "   [ 17.243622    13.243622    10.243622  ]\n",
            "   ...\n",
            "   [ 19.203571    15.20357     16.203571  ]\n",
            "   [ 19.17334     15.17334     16.17334   ]\n",
            "   [ 11.937087     7.9370866    8.937087  ]]\n",
            "\n",
            "  [[ 25.186571    22.186571    17.186571  ]\n",
            "   [ 21.219631    17.219631    14.219631  ]\n",
            "   [ 12.428743     8.428743     5.428743  ]\n",
            "   ...\n",
            "   [ 17.228218    13.228217    14.228217  ]\n",
            "   [ 22.142006    18.142006    19.142006  ]\n",
            "   [ 16.537954    12.537953    13.537953  ]]]], shape=(32, 225, 225, 3), dtype=float32) tf.Tensor(\n",
            "[[0. 1. 0. 0. 0. 0. 0. 0. 0. 0.]\n",
            " [0. 0. 0. 0. 0. 0. 1. 0. 0. 0.]\n",
            " [0. 0. 0. 0. 0. 0. 1. 0. 0. 0.]\n",
            " [0. 0. 0. 0. 0. 0. 0. 1. 0. 0.]\n",
            " [0. 0. 0. 0. 0. 0. 0. 0. 0. 1.]\n",
            " [0. 0. 0. 1. 0. 0. 0. 0. 0. 0.]\n",
            " [0. 0. 0. 0. 0. 0. 1. 0. 0. 0.]\n",
            " [0. 0. 0. 1. 0. 0. 0. 0. 0. 0.]\n",
            " [1. 0. 0. 0. 0. 0. 0. 0. 0. 0.]\n",
            " [0. 0. 0. 0. 1. 0. 0. 0. 0. 0.]\n",
            " [0. 0. 1. 0. 0. 0. 0. 0. 0. 0.]\n",
            " [0. 1. 0. 0. 0. 0. 0. 0. 0. 0.]\n",
            " [1. 0. 0. 0. 0. 0. 0. 0. 0. 0.]\n",
            " [0. 0. 1. 0. 0. 0. 0. 0. 0. 0.]\n",
            " [0. 0. 0. 1. 0. 0. 0. 0. 0. 0.]\n",
            " [0. 0. 0. 0. 0. 0. 0. 0. 1. 0.]\n",
            " [0. 0. 0. 0. 0. 0. 1. 0. 0. 0.]\n",
            " [0. 0. 0. 0. 0. 1. 0. 0. 0. 0.]\n",
            " [0. 0. 0. 0. 0. 0. 0. 0. 0. 1.]\n",
            " [0. 0. 0. 0. 0. 0. 1. 0. 0. 0.]\n",
            " [0. 1. 0. 0. 0. 0. 0. 0. 0. 0.]\n",
            " [0. 0. 0. 0. 0. 0. 0. 0. 0. 1.]\n",
            " [0. 0. 0. 0. 0. 0. 0. 0. 1. 0.]\n",
            " [0. 0. 0. 0. 0. 0. 0. 1. 0. 0.]\n",
            " [1. 0. 0. 0. 0. 0. 0. 0. 0. 0.]\n",
            " [0. 0. 0. 0. 0. 0. 0. 1. 0. 0.]\n",
            " [0. 0. 0. 1. 0. 0. 0. 0. 0. 0.]\n",
            " [0. 0. 0. 0. 0. 0. 0. 0. 0. 1.]\n",
            " [0. 0. 0. 0. 0. 1. 0. 0. 0. 0.]\n",
            " [0. 0. 0. 0. 0. 0. 0. 1. 0. 0.]\n",
            " [0. 0. 0. 0. 0. 0. 1. 0. 0. 0.]\n",
            " [0. 0. 0. 0. 0. 0. 0. 0. 0. 1.]], shape=(32, 10), dtype=float32)\n"
          ]
        }
      ]
    },
    {
      "cell_type": "markdown",
      "source": [
        "### experiment 1: pure feature extraction + data augmentation"
      ],
      "metadata": {
        "id": "9Agb_E56G7OI"
      }
    },
    {
      "cell_type": "code",
      "source": [
        "from tensorflow.keras.layers.experimental import preprocessing as pre #augments on gpu and only during train\n",
        "import matplotlib.image as mpimg\n",
        "import matplotlib.pyplot as plt\n",
        "import random\n",
        "import os\n",
        "\n",
        "data_aug = tf.keras.Sequential([\n",
        "    pre.RandomFlip(\"horizontal\"),\n",
        "    pre.RandomRotation(0.2),\n",
        "    pre.RandomZoom(0.2)\n",
        "], name=\"data_augmentation\")\n",
        "\n",
        "target_class = random.choice(train_data.class_names)\n",
        "target_dir = ''.join([train_dir,'/',target_class])\n",
        "img = ''.join([target_dir,\n",
        "               '/',\n",
        "               random.choice(os.listdir(target_dir))])\n",
        "\n",
        "aug_img = data_aug(mpimg.imread(img))\n",
        "plt.title('augmented random image')\n",
        "plt.imshow(aug_img/255)"
      ],
      "metadata": {
        "id": "9godg4bojD4O",
        "colab": {
          "base_uri": "https://localhost:8080/",
          "height": 219
        },
        "outputId": "5d136255-050e-4e8e-ae81-e348cdd17e41"
      },
      "execution_count": 35,
      "outputs": [
        {
          "output_type": "error",
          "ename": "AttributeError",
          "evalue": "ignored",
          "traceback": [
            "\u001b[0;31m---------------------------------------------------------------------------\u001b[0m",
            "\u001b[0;31mAttributeError\u001b[0m                            Traceback (most recent call last)",
            "\u001b[0;32m<ipython-input-35-5cd711b90c7d>\u001b[0m in \u001b[0;36m<module>\u001b[0;34m()\u001b[0m\n\u001b[1;32m     18\u001b[0m \u001b[0;34m\u001b[0m\u001b[0m\n\u001b[1;32m     19\u001b[0m \u001b[0maug_img\u001b[0m \u001b[0;34m=\u001b[0m \u001b[0mdata_aug\u001b[0m\u001b[0;34m(\u001b[0m\u001b[0mmpimg\u001b[0m\u001b[0;34m.\u001b[0m\u001b[0mimread\u001b[0m\u001b[0;34m(\u001b[0m\u001b[0mimg\u001b[0m\u001b[0;34m)\u001b[0m\u001b[0;34m)\u001b[0m\u001b[0;34m\u001b[0m\u001b[0;34m\u001b[0m\u001b[0m\n\u001b[0;32m---> 20\u001b[0;31m \u001b[0mplt\u001b[0m\u001b[0;34m.\u001b[0m\u001b[0mtitle\u001b[0m\u001b[0;34m(\u001b[0m\u001b[0mimg\u001b[0m\u001b[0;34m.\u001b[0m\u001b[0mclass_name\u001b[0m\u001b[0;34m)\u001b[0m\u001b[0;34m\u001b[0m\u001b[0;34m\u001b[0m\u001b[0m\n\u001b[0m\u001b[1;32m     21\u001b[0m \u001b[0mplt\u001b[0m\u001b[0;34m.\u001b[0m\u001b[0mimshow\u001b[0m\u001b[0;34m(\u001b[0m\u001b[0maug_img\u001b[0m\u001b[0;34m/\u001b[0m\u001b[0;36m255\u001b[0m\u001b[0;34m)\u001b[0m\u001b[0;34m\u001b[0m\u001b[0;34m\u001b[0m\u001b[0m\n",
            "\u001b[0;31mAttributeError\u001b[0m: 'str' object has no attribute 'class_name'"
          ]
        }
      ]
    },
    {
      "cell_type": "code",
      "source": [
        "base_model = tf.keras.applications.EfficientNetB0(include_top=False)\n",
        "base_model.trainable = False\n",
        "\n",
        "inputs = tf.keras.layers.Input(shape=(IMG_SIZE)+(3,), name=\"input_layer\") #normalizing not needed for efficientnet\n",
        "#x = data_aug(inputs, training=True)\n",
        "x = base_model(inputs)\n",
        "print(x.shape)\n",
        "x = tf.keras.layers.GlobalAveragePooling2D(name=\"pooling_layer\")(x)\n",
        "print(x.shape)\n",
        "x = tf.keras.layers.Flatten()(x)\n",
        "outputs = tf.keras.layers.Dense(10, activation=\"softmax\", name=\"output_layer\")(x)\n",
        "\n",
        "model = tf.keras.Model(inputs, outputs)"
      ],
      "metadata": {
        "colab": {
          "base_uri": "https://localhost:8080/"
        },
        "id": "8fwkF-myAAtY",
        "outputId": "d512dc57-1767-4dd0-e821-6b5f25b208cc"
      },
      "execution_count": null,
      "outputs": [
        {
          "output_type": "stream",
          "name": "stdout",
          "text": [
            "Downloading data from https://storage.googleapis.com/keras-applications/efficientnetb0_notop.h5\n",
            "16711680/16705208 [==============================] - 0s 0us/step\n",
            "16719872/16705208 [==============================] - 0s 0us/step\n",
            "(None, 7, 7, 1280)\n",
            "(None, 1280)\n"
          ]
        }
      ]
    },
    {
      "cell_type": "code",
      "source": [
        "model.compile(loss=\"categorical_crossentropy\",\n",
        "              optimizer=tf.keras.optimizers.Adam(),\n",
        "              metrics=[\"accuracy\"])"
      ],
      "metadata": {
        "id": "fwuAwoHPDYXZ"
      },
      "execution_count": null,
      "outputs": []
    },
    {
      "cell_type": "code",
      "source": [
        "#model checkpoint callback\n",
        "save_path = \"model_checkpoints/checkpoint.ckpt\"\n",
        "checkpoint_callback = tf.keras.callbacks.ModelCheckpoint(filepath=save_path,\n",
        "                                                         save_weights_only=True,\n",
        "                                                         save_best_only=False,\n",
        "                                                         save_freq=\"epoch\",\n",
        "                                                         verbose=1)"
      ],
      "metadata": {
        "id": "gfb3lNTpu--e"
      },
      "execution_count": null,
      "outputs": []
    },
    {
      "cell_type": "code",
      "source": [
        "history = model.fit(train_data,\n",
        "                    epochs=3,\n",
        "                    steps_per_epoch=len(train_data),\n",
        "                    validation_data=test_data,\n",
        "                    validation_steps=int(len(test_data)/4),\n",
        "                    callbacks=[checkpoint_callback,\n",
        "                               create_tensorboard_callback(dir_name=\"models\",\n",
        "                                                           experiment_name=\"feature_extraction\")])"
      ],
      "metadata": {
        "colab": {
          "base_uri": "https://localhost:8080/"
        },
        "id": "xDXWQVL7EhPf",
        "outputId": "fd3ca13b-2ab5-468a-83e7-6fdbf66fa5f0"
      },
      "execution_count": null,
      "outputs": [
        {
          "output_type": "stream",
          "name": "stdout",
          "text": [
            "Saving TensorBoard log files to: models/feature_extraction/20220808-195815\n",
            "Epoch 1/3\n",
            "24/24 [==============================] - ETA: 0s - loss: 1.8612 - accuracy: 0.4333\n",
            "Epoch 1: saving model to model_checkpoints/checkpoint.ckpt\n",
            "24/24 [==============================] - 23s 273ms/step - loss: 1.8612 - accuracy: 0.4333 - val_loss: 1.3086 - val_accuracy: 0.7220\n",
            "Epoch 2/3\n",
            "23/24 [===========================>..] - ETA: 0s - loss: 1.1188 - accuracy: 0.7473\n",
            "Epoch 2: saving model to model_checkpoints/checkpoint.ckpt\n",
            "24/24 [==============================] - 5s 195ms/step - loss: 1.1144 - accuracy: 0.7480 - val_loss: 0.9118 - val_accuracy: 0.8026\n",
            "Epoch 3/3\n",
            "23/24 [===========================>..] - ETA: 0s - loss: 0.8260 - accuracy: 0.8125\n",
            "Epoch 3: saving model to model_checkpoints/checkpoint.ckpt\n",
            "24/24 [==============================] - 4s 160ms/step - loss: 0.8245 - accuracy: 0.8120 - val_loss: 0.7282 - val_accuracy: 0.8339\n"
          ]
        }
      ]
    },
    {
      "cell_type": "code",
      "source": [
        "model.evaluate(test_data)"
      ],
      "metadata": {
        "colab": {
          "base_uri": "https://localhost:8080/"
        },
        "id": "OqS-rE5YFMaJ",
        "outputId": "a6f0829b-8691-4439-ece9-e3b1a79db5c6"
      },
      "execution_count": null,
      "outputs": [
        {
          "output_type": "stream",
          "name": "stdout",
          "text": [
            "79/79 [==============================] - 6s 77ms/step - loss: 0.7490 - accuracy: 0.8244\n"
          ]
        },
        {
          "output_type": "execute_result",
          "data": {
            "text/plain": [
              "[0.7489511370658875, 0.824400007724762]"
            ]
          },
          "metadata": {},
          "execution_count": 15
        }
      ]
    },
    {
      "cell_type": "code",
      "source": [
        "for i,layer in enumerate(base_model.layers): print(i, layer.name)"
      ],
      "metadata": {
        "id": "b7YP6FdAFqg-",
        "colab": {
          "base_uri": "https://localhost:8080/"
        },
        "outputId": "8627807e-9d00-4645-d9a5-7ab8d6ce7423"
      },
      "execution_count": null,
      "outputs": [
        {
          "output_type": "stream",
          "name": "stdout",
          "text": [
            "0 input_1\n",
            "1 rescaling\n",
            "2 normalization\n",
            "3 stem_conv_pad\n",
            "4 stem_conv\n",
            "5 stem_bn\n",
            "6 stem_activation\n",
            "7 block1a_dwconv\n",
            "8 block1a_bn\n",
            "9 block1a_activation\n",
            "10 block1a_se_squeeze\n",
            "11 block1a_se_reshape\n",
            "12 block1a_se_reduce\n",
            "13 block1a_se_expand\n",
            "14 block1a_se_excite\n",
            "15 block1a_project_conv\n",
            "16 block1a_project_bn\n",
            "17 block2a_expand_conv\n",
            "18 block2a_expand_bn\n",
            "19 block2a_expand_activation\n",
            "20 block2a_dwconv_pad\n",
            "21 block2a_dwconv\n",
            "22 block2a_bn\n",
            "23 block2a_activation\n",
            "24 block2a_se_squeeze\n",
            "25 block2a_se_reshape\n",
            "26 block2a_se_reduce\n",
            "27 block2a_se_expand\n",
            "28 block2a_se_excite\n",
            "29 block2a_project_conv\n",
            "30 block2a_project_bn\n",
            "31 block2b_expand_conv\n",
            "32 block2b_expand_bn\n",
            "33 block2b_expand_activation\n",
            "34 block2b_dwconv\n",
            "35 block2b_bn\n",
            "36 block2b_activation\n",
            "37 block2b_se_squeeze\n",
            "38 block2b_se_reshape\n",
            "39 block2b_se_reduce\n",
            "40 block2b_se_expand\n",
            "41 block2b_se_excite\n",
            "42 block2b_project_conv\n",
            "43 block2b_project_bn\n",
            "44 block2b_drop\n",
            "45 block2b_add\n",
            "46 block3a_expand_conv\n",
            "47 block3a_expand_bn\n",
            "48 block3a_expand_activation\n",
            "49 block3a_dwconv_pad\n",
            "50 block3a_dwconv\n",
            "51 block3a_bn\n",
            "52 block3a_activation\n",
            "53 block3a_se_squeeze\n",
            "54 block3a_se_reshape\n",
            "55 block3a_se_reduce\n",
            "56 block3a_se_expand\n",
            "57 block3a_se_excite\n",
            "58 block3a_project_conv\n",
            "59 block3a_project_bn\n",
            "60 block3b_expand_conv\n",
            "61 block3b_expand_bn\n",
            "62 block3b_expand_activation\n",
            "63 block3b_dwconv\n",
            "64 block3b_bn\n",
            "65 block3b_activation\n",
            "66 block3b_se_squeeze\n",
            "67 block3b_se_reshape\n",
            "68 block3b_se_reduce\n",
            "69 block3b_se_expand\n",
            "70 block3b_se_excite\n",
            "71 block3b_project_conv\n",
            "72 block3b_project_bn\n",
            "73 block3b_drop\n",
            "74 block3b_add\n",
            "75 block4a_expand_conv\n",
            "76 block4a_expand_bn\n",
            "77 block4a_expand_activation\n",
            "78 block4a_dwconv_pad\n",
            "79 block4a_dwconv\n",
            "80 block4a_bn\n",
            "81 block4a_activation\n",
            "82 block4a_se_squeeze\n",
            "83 block4a_se_reshape\n",
            "84 block4a_se_reduce\n",
            "85 block4a_se_expand\n",
            "86 block4a_se_excite\n",
            "87 block4a_project_conv\n",
            "88 block4a_project_bn\n",
            "89 block4b_expand_conv\n",
            "90 block4b_expand_bn\n",
            "91 block4b_expand_activation\n",
            "92 block4b_dwconv\n",
            "93 block4b_bn\n",
            "94 block4b_activation\n",
            "95 block4b_se_squeeze\n",
            "96 block4b_se_reshape\n",
            "97 block4b_se_reduce\n",
            "98 block4b_se_expand\n",
            "99 block4b_se_excite\n",
            "100 block4b_project_conv\n",
            "101 block4b_project_bn\n",
            "102 block4b_drop\n",
            "103 block4b_add\n",
            "104 block4c_expand_conv\n",
            "105 block4c_expand_bn\n",
            "106 block4c_expand_activation\n",
            "107 block4c_dwconv\n",
            "108 block4c_bn\n",
            "109 block4c_activation\n",
            "110 block4c_se_squeeze\n",
            "111 block4c_se_reshape\n",
            "112 block4c_se_reduce\n",
            "113 block4c_se_expand\n",
            "114 block4c_se_excite\n",
            "115 block4c_project_conv\n",
            "116 block4c_project_bn\n",
            "117 block4c_drop\n",
            "118 block4c_add\n",
            "119 block5a_expand_conv\n",
            "120 block5a_expand_bn\n",
            "121 block5a_expand_activation\n",
            "122 block5a_dwconv\n",
            "123 block5a_bn\n",
            "124 block5a_activation\n",
            "125 block5a_se_squeeze\n",
            "126 block5a_se_reshape\n",
            "127 block5a_se_reduce\n",
            "128 block5a_se_expand\n",
            "129 block5a_se_excite\n",
            "130 block5a_project_conv\n",
            "131 block5a_project_bn\n",
            "132 block5b_expand_conv\n",
            "133 block5b_expand_bn\n",
            "134 block5b_expand_activation\n",
            "135 block5b_dwconv\n",
            "136 block5b_bn\n",
            "137 block5b_activation\n",
            "138 block5b_se_squeeze\n",
            "139 block5b_se_reshape\n",
            "140 block5b_se_reduce\n",
            "141 block5b_se_expand\n",
            "142 block5b_se_excite\n",
            "143 block5b_project_conv\n",
            "144 block5b_project_bn\n",
            "145 block5b_drop\n",
            "146 block5b_add\n",
            "147 block5c_expand_conv\n",
            "148 block5c_expand_bn\n",
            "149 block5c_expand_activation\n",
            "150 block5c_dwconv\n",
            "151 block5c_bn\n",
            "152 block5c_activation\n",
            "153 block5c_se_squeeze\n",
            "154 block5c_se_reshape\n",
            "155 block5c_se_reduce\n",
            "156 block5c_se_expand\n",
            "157 block5c_se_excite\n",
            "158 block5c_project_conv\n",
            "159 block5c_project_bn\n",
            "160 block5c_drop\n",
            "161 block5c_add\n",
            "162 block6a_expand_conv\n",
            "163 block6a_expand_bn\n",
            "164 block6a_expand_activation\n",
            "165 block6a_dwconv_pad\n",
            "166 block6a_dwconv\n",
            "167 block6a_bn\n",
            "168 block6a_activation\n",
            "169 block6a_se_squeeze\n",
            "170 block6a_se_reshape\n",
            "171 block6a_se_reduce\n",
            "172 block6a_se_expand\n",
            "173 block6a_se_excite\n",
            "174 block6a_project_conv\n",
            "175 block6a_project_bn\n",
            "176 block6b_expand_conv\n",
            "177 block6b_expand_bn\n",
            "178 block6b_expand_activation\n",
            "179 block6b_dwconv\n",
            "180 block6b_bn\n",
            "181 block6b_activation\n",
            "182 block6b_se_squeeze\n",
            "183 block6b_se_reshape\n",
            "184 block6b_se_reduce\n",
            "185 block6b_se_expand\n",
            "186 block6b_se_excite\n",
            "187 block6b_project_conv\n",
            "188 block6b_project_bn\n",
            "189 block6b_drop\n",
            "190 block6b_add\n",
            "191 block6c_expand_conv\n",
            "192 block6c_expand_bn\n",
            "193 block6c_expand_activation\n",
            "194 block6c_dwconv\n",
            "195 block6c_bn\n",
            "196 block6c_activation\n",
            "197 block6c_se_squeeze\n",
            "198 block6c_se_reshape\n",
            "199 block6c_se_reduce\n",
            "200 block6c_se_expand\n",
            "201 block6c_se_excite\n",
            "202 block6c_project_conv\n",
            "203 block6c_project_bn\n",
            "204 block6c_drop\n",
            "205 block6c_add\n",
            "206 block6d_expand_conv\n",
            "207 block6d_expand_bn\n",
            "208 block6d_expand_activation\n",
            "209 block6d_dwconv\n",
            "210 block6d_bn\n",
            "211 block6d_activation\n",
            "212 block6d_se_squeeze\n",
            "213 block6d_se_reshape\n",
            "214 block6d_se_reduce\n",
            "215 block6d_se_expand\n",
            "216 block6d_se_excite\n",
            "217 block6d_project_conv\n",
            "218 block6d_project_bn\n",
            "219 block6d_drop\n",
            "220 block6d_add\n",
            "221 block7a_expand_conv\n",
            "222 block7a_expand_bn\n",
            "223 block7a_expand_activation\n",
            "224 block7a_dwconv\n",
            "225 block7a_bn\n",
            "226 block7a_activation\n",
            "227 block7a_se_squeeze\n",
            "228 block7a_se_reshape\n",
            "229 block7a_se_reduce\n",
            "230 block7a_se_expand\n",
            "231 block7a_se_excite\n",
            "232 block7a_project_conv\n",
            "233 block7a_project_bn\n",
            "234 top_conv\n",
            "235 top_bn\n",
            "236 top_activation\n"
          ]
        }
      ]
    },
    {
      "cell_type": "code",
      "source": [
        "plot_loss_curves(history)"
      ],
      "metadata": {
        "colab": {
          "base_uri": "https://localhost:8080/",
          "height": 573
        },
        "id": "QzTmJqzIGhSq",
        "outputId": "6c6e8c84-54c7-4121-fa02-bdec5bafeef9"
      },
      "execution_count": null,
      "outputs": [
        {
          "output_type": "display_data",
          "data": {
            "text/plain": [
              "<Figure size 432x288 with 1 Axes>"
            ],
            "image/png": "[encoded data removed]"
          },
          "metadata": {
            "needs_background": "light"
          }
        },
        {
          "output_type": "display_data",
          "data": {
            "text/plain": [
              "<Figure size 432x288 with 1 Axes>"
            ],
            "image/png": "[encoded data removed]"
          },
          "metadata": {
            "needs_background": "light"
          }
        }
      ]
    },
    {
      "cell_type": "markdown",
      "source": [
        "### getting a feature vector"
      ],
      "metadata": {
        "id": "W9YPO-r-Jcxp"
      }
    },
    {
      "cell_type": "code",
      "source": [
        "#globalavgpool2d compresses 4-d to 2-d via averaging middle 2 axis to make a feature vector\n",
        "\n",
        "tf.random.set_seed(42)\n",
        "\n",
        "input_shape = (1,4,4,3)\n",
        "tensor = tf.random.normal(input_shape)\n",
        "\n",
        "pooled_tensor = tf.keras.layers.GlobalAvgPool2D()(tensor)\n",
        "tensor.shape,pooled_tensor.shape\n"
      ],
      "metadata": {
        "colab": {
          "base_uri": "https://localhost:8080/"
        },
        "id": "0ORKHCuWHBkY",
        "outputId": "c19c9e7b-d3d1-4c43-c594-9994b604d751"
      },
      "execution_count": null,
      "outputs": [
        {
          "output_type": "execute_result",
          "data": {
            "text/plain": [
              "(TensorShape([1, 4, 4, 3]), TensorShape([1, 3]))"
            ]
          },
          "metadata": {},
          "execution_count": 18
        }
      ]
    },
    {
      "cell_type": "markdown",
      "source": [
        "### loading checkpoints and weights"
      ],
      "metadata": {
        "id": "LZi1PAf-woFY"
      }
    },
    {
      "cell_type": "code",
      "source": [
        "#load and evaluate\n",
        "\n",
        "model.load_weights(save_path)"
      ],
      "metadata": {
        "id": "uOjuxAKSKBNo",
        "colab": {
          "base_uri": "https://localhost:8080/"
        },
        "outputId": "2c73d05b-240d-4ab8-b4d6-2105ebf681f5"
      },
      "execution_count": null,
      "outputs": [
        {
          "output_type": "execute_result",
          "data": {
            "text/plain": [
              "<tensorflow.python.training.tracking.util.CheckpointLoadStatus at 0x7f649ed9de90>"
            ]
          },
          "metadata": {},
          "execution_count": 19
        }
      ]
    },
    {
      "cell_type": "code",
      "source": [
        "model.evaluate(test_data)"
      ],
      "metadata": {
        "colab": {
          "base_uri": "https://localhost:8080/"
        },
        "id": "kUyaJKQsxDcM",
        "outputId": "7df10093-e3e6-4421-c529-10321b710048"
      },
      "execution_count": null,
      "outputs": [
        {
          "output_type": "stream",
          "name": "stdout",
          "text": [
            "79/79 [==============================] - 7s 72ms/step - loss: 0.7490 - accuracy: 0.8244\n"
          ]
        },
        {
          "output_type": "execute_result",
          "data": {
            "text/plain": [
              "[0.7489514350891113, 0.824400007724762]"
            ]
          },
          "metadata": {},
          "execution_count": 20
        }
      ]
    },
    {
      "cell_type": "markdown",
      "source": [
        "### experiment 2: fine-tuning \n",
        "\n",
        "**note**: usually works best after training for a few epochs fist"
      ],
      "metadata": {
        "id": "Fa28D1HSYeOE"
      }
    },
    {
      "cell_type": "code",
      "source": [
        "model.layers"
      ],
      "metadata": {
        "colab": {
          "base_uri": "https://localhost:8080/"
        },
        "id": "AuFGOodwY63J",
        "outputId": "351abd6f-d318-47ee-fc04-3e3c71712aa1"
      },
      "execution_count": null,
      "outputs": [
        {
          "output_type": "execute_result",
          "data": {
            "text/plain": [
              "[<keras.engine.input_layer.InputLayer at 0x7f6538954150>,\n",
              " <keras.engine.functional.Functional at 0x7f64a7f76b50>,\n",
              " <keras.layers.pooling.GlobalAveragePooling2D at 0x7f64a7f4c950>,\n",
              " <keras.layers.core.flatten.Flatten at 0x7f64a781be90>,\n",
              " <keras.layers.core.dense.Dense at 0x7f64a7826a50>]"
            ]
          },
          "metadata": {},
          "execution_count": 21
        }
      ]
    },
    {
      "cell_type": "code",
      "source": [
        "[(layer,layer.trainable )for layer in model.layers[1].layers] #layers in borrowed model"
      ],
      "metadata": {
        "colab": {
          "base_uri": "https://localhost:8080/"
        },
        "id": "H8cAnU5hZHxt",
        "outputId": "cb202775-ad9d-4e1b-e1af-567897b6ca64"
      },
      "execution_count": null,
      "outputs": [
        {
          "output_type": "execute_result",
          "data": {
            "text/plain": [
              "[(<keras.engine.input_layer.InputLayer at 0x7f65388fbe10>, False),\n",
              " (<keras.layers.preprocessing.image_preprocessing.Rescaling at 0x7f653a0497d0>,\n",
              "  False),\n",
              " (<keras.layers.preprocessing.normalization.Normalization at 0x7f653894e990>,\n",
              "  False),\n",
              " (<keras.layers.convolutional.ZeroPadding2D at 0x7f6538908d90>, False),\n",
              " (<keras.layers.convolutional.Conv2D at 0x7f653893fbd0>, False),\n",
              " (<keras.layers.normalization.batch_normalization.BatchNormalization at 0x7f65389239d0>,\n",
              "  False),\n",
              " (<keras.layers.core.activation.Activation at 0x7f6538954cd0>, False),\n",
              " (<keras.layers.convolutional.DepthwiseConv2D at 0x7f653897af90>, False),\n",
              " (<keras.layers.normalization.batch_normalization.BatchNormalization at 0x7f6538936710>,\n",
              "  False),\n",
              " (<keras.layers.core.activation.Activation at 0x7f653a0079d0>, False),\n",
              " (<keras.layers.pooling.GlobalAveragePooling2D at 0x7f65200c36d0>, False),\n",
              " (<keras.layers.core.reshape.Reshape at 0x7f65200c33d0>, False),\n",
              " (<keras.layers.convolutional.Conv2D at 0x7f6520139450>, False),\n",
              " (<keras.layers.convolutional.Conv2D at 0x7f653893fcd0>, False),\n",
              " (<keras.layers.merge.Multiply at 0x7f65200cf710>, False),\n",
              " (<keras.layers.convolutional.Conv2D at 0x7f6539eb3490>, False),\n",
              " (<keras.layers.normalization.batch_normalization.BatchNormalization at 0x7f6539eb3e90>,\n",
              "  False),\n",
              " (<keras.layers.convolutional.Conv2D at 0x7f65200e2150>, False),\n",
              " (<keras.layers.normalization.batch_normalization.BatchNormalization at 0x7f65200d86d0>,\n",
              "  False),\n",
              " (<keras.layers.core.activation.Activation at 0x7f65200f06d0>, False),\n",
              " (<keras.layers.convolutional.ZeroPadding2D at 0x7f65200f3f50>, False),\n",
              " (<keras.layers.convolutional.DepthwiseConv2D at 0x7f65200f0950>, False),\n",
              " (<keras.layers.normalization.batch_normalization.BatchNormalization at 0x7f65200ded90>,\n",
              "  False),\n",
              " (<keras.layers.core.activation.Activation at 0x7f6538936950>, False),\n",
              " (<keras.layers.pooling.GlobalAveragePooling2D at 0x7f65388f2e90>, False),\n",
              " (<keras.layers.core.reshape.Reshape at 0x7f65200915d0>, False),\n",
              " (<keras.layers.convolutional.Conv2D at 0x7f6520097cd0>, False),\n",
              " (<keras.layers.convolutional.Conv2D at 0x7f65200a1cd0>, False),\n",
              " (<keras.layers.merge.Multiply at 0x7f65200a7d90>, False),\n",
              " (<keras.layers.convolutional.Conv2D at 0x7f65200ac950>, False),\n",
              " (<keras.layers.normalization.batch_normalization.BatchNormalization at 0x7f65200b7490>,\n",
              "  False),\n",
              " (<keras.layers.convolutional.Conv2D at 0x7f65200b3bd0>, False),\n",
              " (<keras.layers.normalization.batch_normalization.BatchNormalization at 0x7f65200bdc50>,\n",
              "  False),\n",
              " (<keras.layers.core.activation.Activation at 0x7f652004b110>, False),\n",
              " (<keras.layers.convolutional.DepthwiseConv2D at 0x7f6520045310>, False),\n",
              " (<keras.layers.normalization.batch_normalization.BatchNormalization at 0x7f6520057a10>,\n",
              "  False),\n",
              " (<keras.layers.core.activation.Activation at 0x7f652005e650>, False),\n",
              " (<keras.layers.pooling.GlobalAveragePooling2D at 0x7f652005ec50>, False),\n",
              " (<keras.layers.core.reshape.Reshape at 0x7f6520060ad0>, False),\n",
              " (<keras.layers.convolutional.Conv2D at 0x7f65200796d0>, False),\n",
              " (<keras.layers.convolutional.Conv2D at 0x7f6520073450>, False),\n",
              " (<keras.layers.merge.Multiply at 0x7f6520007250>, False),\n",
              " (<keras.layers.convolutional.Conv2D at 0x7f65200115d0>, False),\n",
              " (<keras.layers.normalization.batch_normalization.BatchNormalization at 0x7f652000afd0>,\n",
              "  False),\n",
              " (<keras.layers.core.dropout.Dropout at 0x7f652000fb10>, False),\n",
              " (<keras.layers.merge.Add at 0x7f6520027bd0>, False),\n",
              " (<keras.layers.convolutional.Conv2D at 0x7f6520027b10>, False),\n",
              " (<keras.layers.normalization.batch_normalization.BatchNormalization at 0x7f652000fc10>,\n",
              "  False),\n",
              " (<keras.layers.core.activation.Activation at 0x7f652002ded0>, False),\n",
              " (<keras.layers.convolutional.ZeroPadding2D at 0x7f652002f8d0>, False),\n",
              " (<keras.layers.convolutional.DepthwiseConv2D at 0x7f652002d1d0>, False),\n",
              " (<keras.layers.normalization.batch_normalization.BatchNormalization at 0x7f6520079810>,\n",
              "  False),\n",
              " (<keras.layers.core.activation.Activation at 0x7f65200acc90>, False),\n",
              " (<keras.layers.pooling.GlobalAveragePooling2D at 0x7f6520041e50>, False),\n",
              " (<keras.layers.core.reshape.Reshape at 0x7f6520020a10>, False),\n",
              " (<keras.layers.convolutional.Conv2D at 0x7f6520085950>, False),\n",
              " (<keras.layers.convolutional.Conv2D at 0x7f653a069710>, False),\n",
              " (<keras.layers.merge.Multiply at 0x7f6520038a90>, False),\n",
              " (<keras.layers.convolutional.Conv2D at 0x7f6520038290>, False),\n",
              " (<keras.layers.normalization.batch_normalization.BatchNormalization at 0x7f64ba2c8710>,\n",
              "  False),\n",
              " (<keras.layers.convolutional.Conv2D at 0x7f6538936c50>, False),\n",
              " (<keras.layers.normalization.batch_normalization.BatchNormalization at 0x7f64ba2cce50>,\n",
              "  False),\n",
              " (<keras.layers.core.activation.Activation at 0x7f6538954d90>, False),\n",
              " (<keras.layers.convolutional.DepthwiseConv2D at 0x7f64ba2d0cd0>, False),\n",
              " (<keras.layers.normalization.batch_normalization.BatchNormalization at 0x7f64ba2df9d0>,\n",
              "  False),\n",
              " (<keras.layers.core.activation.Activation at 0x7f64ba2e6890>, False),\n",
              " (<keras.layers.pooling.GlobalAveragePooling2D at 0x7f64ba2e6f10>, False),\n",
              " (<keras.layers.core.reshape.Reshape at 0x7f64ba2f2d90>, False),\n",
              " (<keras.layers.convolutional.Conv2D at 0x7f64ba3029d0>, False),\n",
              " (<keras.layers.convolutional.Conv2D at 0x7f64ba2fc550>, False),\n",
              " (<keras.layers.merge.Multiply at 0x7f64ba2921d0>, False),\n",
              " (<keras.layers.convolutional.Conv2D at 0x7f64ba29c910>, False),\n",
              " (<keras.layers.normalization.batch_normalization.BatchNormalization at 0x7f64ba296490>,\n",
              "  False),\n",
              " (<keras.layers.core.dropout.Dropout at 0x7f64ba29d0d0>, False),\n",
              " (<keras.layers.merge.Add at 0x7f64ba2a9090>, False),\n",
              " (<keras.layers.convolutional.Conv2D at 0x7f64ba2aea90>, False),\n",
              " (<keras.layers.normalization.batch_normalization.BatchNormalization at 0x7f64ba292ad0>,\n",
              "  False),\n",
              " (<keras.layers.core.activation.Activation at 0x7f64ba2be050>, False),\n",
              " (<keras.layers.convolutional.ZeroPadding2D at 0x7f64ba2bec50>, False),\n",
              " (<keras.layers.convolutional.DepthwiseConv2D at 0x7f64ba248150>, False),\n",
              " (<keras.layers.normalization.batch_normalization.BatchNormalization at 0x7f64ba24d990>,\n",
              "  False),\n",
              " (<keras.layers.core.activation.Activation at 0x7f64ba2595d0>, False),\n",
              " (<keras.layers.pooling.GlobalAveragePooling2D at 0x7f64ba296a10>, False),\n",
              " (<keras.layers.core.reshape.Reshape at 0x7f64ba2622d0>, False),\n",
              " (<keras.layers.convolutional.Conv2D at 0x7f64ba260e10>, False),\n",
              " (<keras.layers.convolutional.Conv2D at 0x7f64ba262e90>, False),\n",
              " (<keras.layers.merge.Multiply at 0x7f64ba27c790>, False),\n",
              " (<keras.layers.convolutional.Conv2D at 0x7f64ba286650>, False),\n",
              " (<keras.layers.normalization.batch_normalization.BatchNormalization at 0x7f64ba27f110>,\n",
              "  False),\n",
              " (<keras.layers.convolutional.Conv2D at 0x7f64ba26d750>, False),\n",
              " (<keras.layers.normalization.batch_normalization.BatchNormalization at 0x7f64ba2be350>,\n",
              "  False),\n",
              " (<keras.layers.core.activation.Activation at 0x7f64ba2ae190>, False),\n",
              " (<keras.layers.convolutional.DepthwiseConv2D at 0x7f64ba25f3d0>, False),\n",
              " (<keras.layers.normalization.batch_normalization.BatchNormalization at 0x7f652003b210>,\n",
              "  False),\n",
              " (<keras.layers.core.activation.Activation at 0x7f64ba2ebf50>, False),\n",
              " (<keras.layers.pooling.GlobalAveragePooling2D at 0x7f64ba2ae810>, False),\n",
              " (<keras.layers.core.reshape.Reshape at 0x7f64ba20c510>, False),\n",
              " (<keras.layers.convolutional.Conv2D at 0x7f64ba20fd90>, False),\n",
              " (<keras.layers.convolutional.Conv2D at 0x7f64ba2f25d0>, False),\n",
              " (<keras.layers.merge.Multiply at 0x7f64ba21c510>, False),\n",
              " (<keras.layers.convolutional.Conv2D at 0x7f64ba220210>, False),\n",
              " (<keras.layers.normalization.batch_normalization.BatchNormalization at 0x7f64ba227cd0>,\n",
              "  False),\n",
              " (<keras.layers.core.dropout.Dropout at 0x7f64ba22f290>, False),\n",
              " (<keras.layers.merge.Add at 0x7f64ba236090>, False),\n",
              " (<keras.layers.convolutional.Conv2D at 0x7f64ba22f350>, False),\n",
              " (<keras.layers.normalization.batch_normalization.BatchNormalization at 0x7f64ba22b850>,\n",
              "  False),\n",
              " (<keras.layers.core.activation.Activation at 0x7f64ba245510>, False),\n",
              " (<keras.layers.convolutional.DepthwiseConv2D at 0x7f64ba244450>, False),\n",
              " (<keras.layers.normalization.batch_normalization.BatchNormalization at 0x7f64ba1d3910>,\n",
              "  False),\n",
              " (<keras.layers.core.activation.Activation at 0x7f64ba1e21d0>, False),\n",
              " (<keras.layers.pooling.GlobalAveragePooling2D at 0x7f64ba1e2e10>, False),\n",
              " (<keras.layers.core.reshape.Reshape at 0x7f64ba1e7cd0>, False),\n",
              " (<keras.layers.convolutional.Conv2D at 0x7f64ba1ebc90>, False),\n",
              " (<keras.layers.convolutional.Conv2D at 0x7f64ba1f1b10>, False),\n",
              " (<keras.layers.merge.Multiply at 0x7f64ba200250>, False),\n",
              " (<keras.layers.convolutional.Conv2D at 0x7f64ba200ed0>, False),\n",
              " (<keras.layers.normalization.batch_normalization.BatchNormalization at 0x7f64ba18d790>,\n",
              "  False),\n",
              " (<keras.layers.core.dropout.Dropout at 0x7f64ba202c50>, False),\n",
              " (<keras.layers.merge.Add at 0x7f64ba193090>, False),\n",
              " (<keras.layers.convolutional.Conv2D at 0x7f64ba19d710>, False),\n",
              " (<keras.layers.normalization.batch_normalization.BatchNormalization at 0x7f64ba1a5b90>,\n",
              "  False),\n",
              " (<keras.layers.core.activation.Activation at 0x7f64ba199c90>, False),\n",
              " (<keras.layers.convolutional.DepthwiseConv2D at 0x7f64ba1a8d50>, False),\n",
              " (<keras.layers.normalization.batch_normalization.BatchNormalization at 0x7f64ba1b7850>,\n",
              "  False),\n",
              " (<keras.layers.core.activation.Activation at 0x7f64ba199690>, False),\n",
              " (<keras.layers.pooling.GlobalAveragePooling2D at 0x7f64ba1babd0>, False),\n",
              " (<keras.layers.core.reshape.Reshape at 0x7f64ba1c75d0>, False),\n",
              " (<keras.layers.convolutional.Conv2D at 0x7f64ba1c2e10>, False),\n",
              " (<keras.layers.convolutional.Conv2D at 0x7f64ba19d390>, False),\n",
              " (<keras.layers.merge.Multiply at 0x7f64ba1cad50>, False),\n",
              " (<keras.layers.convolutional.Conv2D at 0x7f64ba245b10>, False),\n",
              " (<keras.layers.normalization.batch_normalization.BatchNormalization at 0x7f64ba20fa50>,\n",
              "  False),\n",
              " (<keras.layers.convolutional.Conv2D at 0x7f64ba29c850>, False),\n",
              " (<keras.layers.normalization.batch_normalization.BatchNormalization at 0x7f64ba302190>,\n",
              "  False),\n",
              " (<keras.layers.core.activation.Activation at 0x7f64ba153210>, False),\n",
              " (<keras.layers.convolutional.DepthwiseConv2D at 0x7f64ba158a90>, False),\n",
              " (<keras.layers.normalization.batch_normalization.BatchNormalization at 0x7f64ba1531d0>,\n",
              "  False),\n",
              " (<keras.layers.core.activation.Activation at 0x7f64ba163850>, False),\n",
              " (<keras.layers.pooling.GlobalAveragePooling2D at 0x7f64ba16e510>, False),\n",
              " (<keras.layers.core.reshape.Reshape at 0x7f64ba165610>, False),\n",
              " (<keras.layers.convolutional.Conv2D at 0x7f64ba165690>, False),\n",
              " (<keras.layers.convolutional.Conv2D at 0x7f64ba174810>, False),\n",
              " (<keras.layers.merge.Multiply at 0x7f64ba153410>, False),\n",
              " (<keras.layers.convolutional.Conv2D at 0x7f64ba184610>, False),\n",
              " (<keras.layers.normalization.batch_normalization.BatchNormalization at 0x7f64ba10a310>,\n",
              "  False),\n",
              " (<keras.layers.core.dropout.Dropout at 0x7f64ba1146d0>, False),\n",
              " (<keras.layers.merge.Add at 0x7f64ba110f50>, False),\n",
              " (<keras.layers.convolutional.Conv2D at 0x7f64ba1198d0>, False),\n",
              " (<keras.layers.normalization.batch_normalization.BatchNormalization at 0x7f64ba122450>,\n",
              "  False),\n",
              " (<keras.layers.core.activation.Activation at 0x7f64ba122850>, False),\n",
              " (<keras.layers.convolutional.DepthwiseConv2D at 0x7f64ba129510>, False),\n",
              " (<keras.layers.normalization.batch_normalization.BatchNormalization at 0x7f64ba137850>,\n",
              "  False),\n",
              " (<keras.layers.core.activation.Activation at 0x7f64ba13b350>, False),\n",
              " (<keras.layers.pooling.GlobalAveragePooling2D at 0x7f64ba13f090>, False),\n",
              " (<keras.layers.core.reshape.Reshape at 0x7f64ba0c8990>, False),\n",
              " (<keras.layers.convolutional.Conv2D at 0x7f64ba0d4790>, False),\n",
              " (<keras.layers.convolutional.Conv2D at 0x7f64ba0dc590>, False),\n",
              " (<keras.layers.merge.Multiply at 0x7f64ba0e6fd0>, False),\n",
              " (<keras.layers.convolutional.Conv2D at 0x7f64ba0eab50>, False),\n",
              " (<keras.layers.normalization.batch_normalization.BatchNormalization at 0x7f64ba0f3650>,\n",
              "  False),\n",
              " (<keras.layers.core.dropout.Dropout at 0x7f64ba0f8c50>, False),\n",
              " (<keras.layers.merge.Add at 0x7f64ba0fdb10>, False),\n",
              " (<keras.layers.convolutional.Conv2D at 0x7f64ba0f8ad0>, False),\n",
              " (<keras.layers.normalization.batch_normalization.BatchNormalization at 0x7f64ba105150>,\n",
              "  False),\n",
              " (<keras.layers.core.activation.Activation at 0x7f64ba106e90>, False),\n",
              " (<keras.layers.convolutional.ZeroPadding2D at 0x7f64ba096850>, False),\n",
              " (<keras.layers.convolutional.DepthwiseConv2D at 0x7f64ba0f3450>, False),\n",
              " (<keras.layers.normalization.batch_normalization.BatchNormalization at 0x7f64ba0d4bd0>,\n",
              "  False),\n",
              " (<keras.layers.core.activation.Activation at 0x7f64ba132150>, False),\n",
              " (<keras.layers.pooling.GlobalAveragePooling2D at 0x7f64ba0ef550>, False),\n",
              " (<keras.layers.core.reshape.Reshape at 0x7f64ba110150>, False),\n",
              " (<keras.layers.convolutional.Conv2D at 0x7f64ba17b090>, False),\n",
              " (<keras.layers.convolutional.Conv2D at 0x7f64ba244590>, False),\n",
              " (<keras.layers.merge.Multiply at 0x7f64ba099a10>, False),\n",
              " (<keras.layers.convolutional.Conv2D at 0x7f64ba0a09d0>, False),\n",
              " (<keras.layers.normalization.batch_normalization.BatchNormalization at 0x7f64ba0a6550>,\n",
              "  False),\n",
              " (<keras.layers.convolutional.Conv2D at 0x7f64ba0a1b10>, False),\n",
              " (<keras.layers.normalization.batch_normalization.BatchNormalization at 0x7f64ba0abd10>,\n",
              "  False),\n",
              " (<keras.layers.core.activation.Activation at 0x7f64ba0b7150>, False),\n",
              " (<keras.layers.convolutional.DepthwiseConv2D at 0x7f64ba0b2390>, False),\n",
              " (<keras.layers.normalization.batch_normalization.BatchNormalization at 0x7f64ba0c28d0>,\n",
              "  False),\n",
              " (<keras.layers.core.activation.Activation at 0x7f64ba04a790>, False),\n",
              " (<keras.layers.pooling.GlobalAveragePooling2D at 0x7f64ba04ae10>, False),\n",
              " (<keras.layers.core.reshape.Reshape at 0x7f64ba054c90>, False),\n",
              " (<keras.layers.convolutional.Conv2D at 0x7f64ba064890>, False),\n",
              " (<keras.layers.convolutional.Conv2D at 0x7f64ba0a6e10>, False),\n",
              " (<keras.layers.merge.Multiply at 0x7f64ba0b7550>, False),\n",
              " (<keras.layers.convolutional.Conv2D at 0x7f64ba06ebd0>, False),\n",
              " (<keras.layers.normalization.batch_normalization.BatchNormalization at 0x7f64ba130c90>,\n",
              "  False),\n",
              " (<keras.layers.core.dropout.Dropout at 0x7f64ba07ce50>, False),\n",
              " (<keras.layers.merge.Add at 0x7f64ba0fd550>, False),\n",
              " (<keras.layers.convolutional.Conv2D at 0x7f64ba076ed0>, False),\n",
              " (<keras.layers.normalization.batch_normalization.BatchNormalization at 0x7f64ba072490>,\n",
              "  False),\n",
              " (<keras.layers.core.activation.Activation at 0x7f64ba07c9d0>, False),\n",
              " (<keras.layers.convolutional.DepthwiseConv2D at 0x7f64ba01e610>, False),\n",
              " (<keras.layers.normalization.batch_normalization.BatchNormalization at 0x7f64ba020410>,\n",
              "  False),\n",
              " (<keras.layers.core.activation.Activation at 0x7f64ba020310>, False),\n",
              " (<keras.layers.pooling.GlobalAveragePooling2D at 0x7f64ba032810>, False),\n",
              " (<keras.layers.core.reshape.Reshape at 0x7f64ba032690>, False),\n",
              " (<keras.layers.convolutional.Conv2D at 0x7f64ba032b50>, False),\n",
              " (<keras.layers.convolutional.Conv2D at 0x7f64ba008cd0>, False),\n",
              " (<keras.layers.merge.Multiply at 0x7f64ba03fcd0>, False),\n",
              " (<keras.layers.convolutional.Conv2D at 0x7f64a7fc4f50>, False),\n",
              " (<keras.layers.normalization.batch_normalization.BatchNormalization at 0x7f64ba014450>,\n",
              "  False),\n",
              " (<keras.layers.core.dropout.Dropout at 0x7f64a7fc82d0>, False),\n",
              " (<keras.layers.merge.Add at 0x7f64a7fd6c90>, False),\n",
              " (<keras.layers.convolutional.Conv2D at 0x7f64a7fd0d50>, False),\n",
              " (<keras.layers.normalization.batch_normalization.BatchNormalization at 0x7f64ba03f610>,\n",
              "  False),\n",
              " (<keras.layers.core.activation.Activation at 0x7f64ba05ea10>, False),\n",
              " (<keras.layers.convolutional.DepthwiseConv2D at 0x7f64ba044ed0>, False),\n",
              " (<keras.layers.normalization.batch_normalization.BatchNormalization at 0x7f64ba072e50>,\n",
              "  False),\n",
              " (<keras.layers.core.activation.Activation at 0x7f64ba1196d0>, False),\n",
              " (<keras.layers.pooling.GlobalAveragePooling2D at 0x7f64ba0a6c50>, False),\n",
              " (<keras.layers.core.reshape.Reshape at 0x7f64ba0a6950>, False),\n",
              " (<keras.layers.convolutional.Conv2D at 0x7f64ba025710>, False),\n",
              " (<keras.layers.convolutional.Conv2D at 0x7f64a7fd0fd0>, False),\n",
              " (<keras.layers.merge.Multiply at 0x7f64a7ff5d10>, False),\n",
              " (<keras.layers.convolutional.Conv2D at 0x7f64a7ff5e10>, False),\n",
              " (<keras.layers.normalization.batch_normalization.BatchNormalization at 0x7f64a7ff5bd0>,\n",
              "  False),\n",
              " (<keras.layers.core.dropout.Dropout at 0x7f64a7f83b90>, False),\n",
              " (<keras.layers.merge.Add at 0x7f64a7fd6d90>, False),\n",
              " (<keras.layers.convolutional.Conv2D at 0x7f64a7f8e950>, False),\n",
              " (<keras.layers.normalization.batch_normalization.BatchNormalization at 0x7f64a7fa4610>,\n",
              "  False),\n",
              " (<keras.layers.core.activation.Activation at 0x7f64a7fa4e10>, False),\n",
              " (<keras.layers.convolutional.DepthwiseConv2D at 0x7f64a7f93f90>, False),\n",
              " (<keras.layers.normalization.batch_normalization.BatchNormalization at 0x7f64a7fb7690>,\n",
              "  False),\n",
              " (<keras.layers.core.activation.Activation at 0x7f64a7f8bc90>, False),\n",
              " (<keras.layers.pooling.GlobalAveragePooling2D at 0x7f64a7fb7390>, False),\n",
              " (<keras.layers.core.reshape.Reshape at 0x7f64a7fbaa50>, False),\n",
              " (<keras.layers.convolutional.Conv2D at 0x7f64a7fdb890>, False),\n",
              " (<keras.layers.convolutional.Conv2D at 0x7f64a7fff710>, False),\n",
              " (<keras.layers.merge.Multiply at 0x7f64a7fbfdd0>, False),\n",
              " (<keras.layers.convolutional.Conv2D at 0x7f64a7f4cbd0>, False),\n",
              " (<keras.layers.normalization.batch_normalization.BatchNormalization at 0x7f64a7ffb690>,\n",
              "  False),\n",
              " (<keras.layers.convolutional.Conv2D at 0x7f6538989550>, False),\n",
              " (<keras.layers.normalization.batch_normalization.BatchNormalization at 0x7f64a7f4cb90>,\n",
              "  False),\n",
              " (<keras.layers.core.activation.Activation at 0x7f64a7f76b90>, False)]"
            ]
          },
          "metadata": {},
          "execution_count": 22
        }
      ]
    },
    {
      "cell_type": "code",
      "source": [
        "#unfreeze last 10 layers\n",
        "\n",
        "base_model.trainable = True\n",
        "for layer in base_model.layers[:-10]: layer.trainable=False\n",
        "\n"
      ],
      "metadata": {
        "id": "dgJOeELMZNC2"
      },
      "execution_count": null,
      "outputs": []
    },
    {
      "cell_type": "code",
      "source": [
        "model.compile(loss=\"categorical_crossentropy\",\n",
        "              optimizer=tf.keras.optimizers.Adam(learning_rate=0.0001), #rule of thumb is to lower lr for fine-tuning\n",
        "              metrics=[\"accuracy\"])"
      ],
      "metadata": {
        "id": "Zy1Ae4pvaQbR"
      },
      "execution_count": null,
      "outputs": []
    },
    {
      "cell_type": "code",
      "source": [
        "len(model.trainable_variables)"
      ],
      "metadata": {
        "colab": {
          "base_uri": "https://localhost:8080/"
        },
        "id": "agcanAFmab-t",
        "outputId": "3663a3c6-e4ad-47f9-89f6-d48715a53253"
      },
      "execution_count": null,
      "outputs": [
        {
          "output_type": "execute_result",
          "data": {
            "text/plain": [
              "12"
            ]
          },
          "metadata": {},
          "execution_count": 25
        }
      ]
    },
    {
      "cell_type": "code",
      "source": [
        "history = model.fit(train_data,\n",
        "                    epochs=3+5,\n",
        "                    steps_per_epoch=len(train_data),\n",
        "                    validation_data=test_data,\n",
        "                    validation_steps=int(len(test_data)/4),\n",
        "                    initial_epoch=history.epoch[-1], #start training where last model left off\n",
        "                    callbacks=[checkpoint_callback,\n",
        "                               create_tensorboard_callback(dir_name=\"models\",\n",
        "                                                           experiment_name=\"fine_tuning\")])"
      ],
      "metadata": {
        "id": "NLCDGgdAbPHc",
        "colab": {
          "base_uri": "https://localhost:8080/"
        },
        "outputId": "16eced62-074f-451f-db97-7af9c636356c"
      },
      "execution_count": null,
      "outputs": [
        {
          "output_type": "stream",
          "name": "stdout",
          "text": [
            "Saving TensorBoard log files to: models/fine_tuning/20220808-195906\n",
            "Epoch 3/8\n",
            "24/24 [==============================] - ETA: 0s - loss: 0.7867 - accuracy: 0.8107\n",
            "Epoch 3: saving model to model_checkpoints/checkpoint.ckpt\n",
            "24/24 [==============================] - 16s 370ms/step - loss: 0.7867 - accuracy: 0.8107 - val_loss: 0.6161 - val_accuracy: 0.8520\n",
            "Epoch 4/8\n",
            "23/24 [===========================>..] - ETA: 0s - loss: 0.5987 - accuracy: 0.8560\n",
            "Epoch 4: saving model to model_checkpoints/checkpoint.ckpt\n",
            "24/24 [==============================] - 4s 167ms/step - loss: 0.6010 - accuracy: 0.8547 - val_loss: 0.5197 - val_accuracy: 0.8586\n",
            "Epoch 5/8\n",
            "23/24 [===========================>..] - ETA: 0s - loss: 0.5113 - accuracy: 0.8886\n",
            "Epoch 5: saving model to model_checkpoints/checkpoint.ckpt\n",
            "24/24 [==============================] - 4s 163ms/step - loss: 0.5092 - accuracy: 0.8907 - val_loss: 0.5406 - val_accuracy: 0.8405\n",
            "Epoch 6/8\n",
            "23/24 [===========================>..] - ETA: 0s - loss: 0.4420 - accuracy: 0.9062\n",
            "Epoch 6: saving model to model_checkpoints/checkpoint.ckpt\n",
            "24/24 [==============================] - 4s 164ms/step - loss: 0.4474 - accuracy: 0.9040 - val_loss: 0.5113 - val_accuracy: 0.8487\n",
            "Epoch 7/8\n",
            "23/24 [===========================>..] - ETA: 0s - loss: 0.4044 - accuracy: 0.9022\n",
            "Epoch 7: saving model to model_checkpoints/checkpoint.ckpt\n",
            "24/24 [==============================] - 4s 164ms/step - loss: 0.4033 - accuracy: 0.9027 - val_loss: 0.4555 - val_accuracy: 0.8618\n",
            "Epoch 8/8\n",
            "23/24 [===========================>..] - ETA: 0s - loss: 0.3590 - accuracy: 0.9293\n",
            "Epoch 8: saving model to model_checkpoints/checkpoint.ckpt\n",
            "24/24 [==============================] - 5s 199ms/step - loss: 0.3663 - accuracy: 0.9267 - val_loss: 0.4606 - val_accuracy: 0.8668\n"
          ]
        }
      ]
    },
    {
      "cell_type": "code",
      "source": [
        "results = model.evaluate(test_data)"
      ],
      "metadata": {
        "colab": {
          "base_uri": "https://localhost:8080/"
        },
        "id": "DaWkfbQTsthr",
        "outputId": "f1601ae1-2e97-411e-ce33-37229c072c4b"
      },
      "execution_count": null,
      "outputs": [
        {
          "output_type": "stream",
          "name": "stdout",
          "text": [
            "79/79 [==============================] - 6s 72ms/step - loss: 0.4673 - accuracy: 0.8548\n"
          ]
        }
      ]
    },
    {
      "cell_type": "code",
      "source": [
        "plot_loss_curves(history) #need to reduce overfitting"
      ],
      "metadata": {
        "colab": {
          "base_uri": "https://localhost:8080/",
          "height": 573
        },
        "id": "mhH3YWk7tKT-",
        "outputId": "99eec910-e88e-4f1f-a927-cc449956b2b2"
      },
      "execution_count": null,
      "outputs": [
        {
          "output_type": "display_data",
          "data": {
            "text/plain": [
              "<Figure size 432x288 with 1 Axes>"
            ],
            "image/png": "[encoded data removed]"
          },
          "metadata": {
            "needs_background": "light"
          }
        },
        {
          "output_type": "display_data",
          "data": {
            "text/plain": [
              "<Figure size 432x288 with 1 Axes>"
            ],
            "image/png": "[encoded data removed]"
          },
          "metadata": {
            "needs_background": "light"
          }
        }
      ]
    },
    {
      "cell_type": "code",
      "source": [
        "#can revert back the fine tuning via loading the checkpoint weights"
      ],
      "metadata": {
        "id": "0bMCrcsutr9F"
      },
      "execution_count": null,
      "outputs": []
    },
    {
      "cell_type": "markdown",
      "source": [
        "### Investingating incorrect predictions"
      ],
      "metadata": {
        "id": "3N2B4cQXCuXL"
      }
    },
    {
      "cell_type": "code",
      "source": [
        "preds = model.predict(test_data)\n",
        "\n",
        "#get filepaths\n",
        "filepaths = []\n",
        "for filepath in test_data.list_files(\"/content/10_food_classes_10_percent/test/*/*.jpg\",\n",
        "                                     shuffle=False):\n",
        "  filepaths += [filepath.numpy()]\n",
        "\n",
        "filepaths[:5]"
      ],
      "metadata": {
        "colab": {
          "base_uri": "https://localhost:8080/"
        },
        "id": "0pm-VcfdCxxO",
        "outputId": "21a71bbb-be61-4985-c2cf-a0b2bb2f70f2"
      },
      "execution_count": 37,
      "outputs": [
        {
          "output_type": "execute_result",
          "data": {
            "text/plain": [
              "[b'/content/10_food_classes_10_percent/test/chicken_curry/101833.jpg',\n",
              " b'/content/10_food_classes_10_percent/test/chicken_curry/10340.jpg',\n",
              " b'/content/10_food_classes_10_percent/test/chicken_curry/1035626.jpg',\n",
              " b'/content/10_food_classes_10_percent/test/chicken_curry/1048226.jpg',\n",
              " b'/content/10_food_classes_10_percent/test/chicken_curry/1075859.jpg']"
            ]
          },
          "metadata": {},
          "execution_count": 37
        }
      ]
    },
    {
      "cell_type": "code",
      "source": [
        "import pandas as pd\n",
        "\n",
        "#group test vs pred labels together\n",
        "\n",
        "y_labels = []\n",
        "\n",
        "for images, labels in test_data.unbatch(): \n",
        "  y_labels.append(labels.numpy().argmax()) \n",
        "\n",
        "\n",
        "pred_classes = preds.argmax(axis=1)\n",
        "\n",
        "pred_df = pd.DataFrame({\"img_path\": filepaths,\n",
        "                        \"y_true\": y_labels,\n",
        "                        \"y_pred\": pred_classes,\n",
        "                        \"pred_conf\": preds.max(axis=1)})"
      ],
      "metadata": {
        "id": "x8aGiFzcDDoO"
      },
      "execution_count": 47,
      "outputs": []
    },
    {
      "cell_type": "code",
      "source": [
        "pred_df "
      ],
      "metadata": {
        "colab": {
          "base_uri": "https://localhost:8080/",
          "height": 424
        },
        "id": "a_zW31XFEhrn",
        "outputId": "8e6f1c6e-951b-48f7-a85d-bc4f2d334a5a"
      },
      "execution_count": 48,
      "outputs": [
        {
          "output_type": "execute_result",
          "data": {
            "text/plain": [
              "                                               img_path  y_true  y_pred  \\\n",
              "0     b'/content/10_food_classes_10_percent/test/chi...       8       0   \n",
              "1     b'/content/10_food_classes_10_percent/test/chi...       1       5   \n",
              "2     b'/content/10_food_classes_10_percent/test/chi...       5       5   \n",
              "3     b'/content/10_food_classes_10_percent/test/chi...       3       6   \n",
              "4     b'/content/10_food_classes_10_percent/test/chi...       6       3   \n",
              "...                                                 ...     ...     ...   \n",
              "2495  b'/content/10_food_classes_10_percent/test/sus...       9       7   \n",
              "2496  b'/content/10_food_classes_10_percent/test/sus...       2       5   \n",
              "2497  b'/content/10_food_classes_10_percent/test/sus...       8       7   \n",
              "2498  b'/content/10_food_classes_10_percent/test/sus...       8       0   \n",
              "2499  b'/content/10_food_classes_10_percent/test/sus...       2       4   \n",
              "\n",
              "      pred_conf  \n",
              "0      0.303116  \n",
              "1      0.650159  \n",
              "2      0.868459  \n",
              "3      0.992494  \n",
              "4      0.839004  \n",
              "...         ...  \n",
              "2495   0.806772  \n",
              "2496   0.989764  \n",
              "2497   0.977295  \n",
              "2498   0.973780  \n",
              "2499   0.989775  \n",
              "\n",
              "[2500 rows x 4 columns]"
            ],
            "text/html": [
              "\n",
              "  <div id=\"df-96e7fc01-5f55-4ba9-b3ec-97e48b2c254d\">\n",
              "    <div class=\"colab-df-container\">\n",
              "      <div>\n",
              "<style scoped>\n",
              "    .dataframe tbody tr th:only-of-type {\n",
              "        vertical-align: middle;\n",
              "    }\n",
              "\n",
              "    .dataframe tbody tr th {\n",
              "        vertical-align: top;\n",
              "    }\n",
              "\n",
              "    .dataframe thead th {\n",
              "        text-align: right;\n",
              "    }\n",
              "</style>\n",
              "<table border=\"1\" class=\"dataframe\">\n",
              "  <thead>\n",
              "    <tr style=\"text-align: right;\">\n",
              "      <th></th>\n",
              "      <th>img_path</th>\n",
              "      <th>y_true</th>\n",
              "      <th>y_pred</th>\n",
              "      <th>pred_conf</th>\n",
              "    </tr>\n",
              "  </thead>\n",
              "  <tbody>\n",
              "    <tr>\n",
              "      <th>0</th>\n",
              "      <td>b'/content/10_food_classes_10_percent/test/chi...</td>\n",
              "      <td>8</td>\n",
              "      <td>0</td>\n",
              "      <td>0.303116</td>\n",
              "    </tr>\n",
              "    <tr>\n",
              "      <th>1</th>\n",
              "      <td>b'/content/10_food_classes_10_percent/test/chi...</td>\n",
              "      <td>1</td>\n",
              "      <td>5</td>\n",
              "      <td>0.650159</td>\n",
              "    </tr>\n",
              "    <tr>\n",
              "      <th>2</th>\n",
              "      <td>b'/content/10_food_classes_10_percent/test/chi...</td>\n",
              "      <td>5</td>\n",
              "      <td>5</td>\n",
              "      <td>0.868459</td>\n",
              "    </tr>\n",
              "    <tr>\n",
              "      <th>3</th>\n",
              "      <td>b'/content/10_food_classes_10_percent/test/chi...</td>\n",
              "      <td>3</td>\n",
              "      <td>6</td>\n",
              "      <td>0.992494</td>\n",
              "    </tr>\n",
              "    <tr>\n",
              "      <th>4</th>\n",
              "      <td>b'/content/10_food_classes_10_percent/test/chi...</td>\n",
              "      <td>6</td>\n",
              "      <td>3</td>\n",
              "      <td>0.839004</td>\n",
              "    </tr>\n",
              "    <tr>\n",
              "      <th>...</th>\n",
              "      <td>...</td>\n",
              "      <td>...</td>\n",
              "      <td>...</td>\n",
              "      <td>...</td>\n",
              "    </tr>\n",
              "    <tr>\n",
              "      <th>2495</th>\n",
              "      <td>b'/content/10_food_classes_10_percent/test/sus...</td>\n",
              "      <td>9</td>\n",
              "      <td>7</td>\n",
              "      <td>0.806772</td>\n",
              "    </tr>\n",
              "    <tr>\n",
              "      <th>2496</th>\n",
              "      <td>b'/content/10_food_classes_10_percent/test/sus...</td>\n",
              "      <td>2</td>\n",
              "      <td>5</td>\n",
              "      <td>0.989764</td>\n",
              "    </tr>\n",
              "    <tr>\n",
              "      <th>2497</th>\n",
              "      <td>b'/content/10_food_classes_10_percent/test/sus...</td>\n",
              "      <td>8</td>\n",
              "      <td>7</td>\n",
              "      <td>0.977295</td>\n",
              "    </tr>\n",
              "    <tr>\n",
              "      <th>2498</th>\n",
              "      <td>b'/content/10_food_classes_10_percent/test/sus...</td>\n",
              "      <td>8</td>\n",
              "      <td>0</td>\n",
              "      <td>0.973780</td>\n",
              "    </tr>\n",
              "    <tr>\n",
              "      <th>2499</th>\n",
              "      <td>b'/content/10_food_classes_10_percent/test/sus...</td>\n",
              "      <td>2</td>\n",
              "      <td>4</td>\n",
              "      <td>0.989775</td>\n",
              "    </tr>\n",
              "  </tbody>\n",
              "</table>\n",
              "<p>2500 rows × 4 columns</p>\n",
              "</div>\n",
              "      <button class=\"colab-df-convert\" onclick=\"convertToInteractive('df-96e7fc01-5f55-4ba9-b3ec-97e48b2c254d')\"\n",
              "              title=\"Convert this dataframe to an interactive table.\"\n",
              "              style=\"display:none;\">\n",
              "        \n",
              "  <svg xmlns=\"http://www.w3.org/2000/svg\" height=\"24px\"viewBox=\"0 0 24 24\"\n",
              "       width=\"24px\">\n",
              "    <path d=\"M0 0h24v24H0V0z\" fill=\"none\"/>\n",
              "    <path d=\"M18.56 5.44l.94 2.06.94-2.06 2.06-.94-2.06-.94-.94-2.06-.94 2.06-2.06.94zm-11 1L8.5 8.5l.94-2.06 2.06-.94-2.06-.94L8.5 2.5l-.94 2.06-2.06.94zm10 10l.94 2.06.94-2.06 2.06-.94-2.06-.94-.94-2.06-.94 2.06-2.06.94z\"/><path d=\"M17.41 7.96l-1.37-1.37c-.4-.4-.92-.59-1.43-.59-.52 0-1.04.2-1.43.59L10.3 9.45l-7.72 7.72c-.78.78-.78 2.05 0 2.83L4 21.41c.39.39.9.59 1.41.59.51 0 1.02-.2 1.41-.59l7.78-7.78 2.81-2.81c.8-.78.8-2.07 0-2.86zM5.41 20L4 18.59l7.72-7.72 1.47 1.35L5.41 20z\"/>\n",
              "  </svg>\n",
              "      </button>\n",
              "      \n",
              "  <style>\n",
              "    .colab-df-container {\n",
              "      display:flex;\n",
              "      flex-wrap:wrap;\n",
              "      gap: 12px;\n",
              "    }\n",
              "\n",
              "    .colab-df-convert {\n",
              "      background-color: #E8F0FE;\n",
              "      border: none;\n",
              "      border-radius: 50%;\n",
              "      cursor: pointer;\n",
              "      display: none;\n",
              "      fill: #1967D2;\n",
              "      height: 32px;\n",
              "      padding: 0 0 0 0;\n",
              "      width: 32px;\n",
              "    }\n",
              "\n",
              "    .colab-df-convert:hover {\n",
              "      background-color: #E2EBFA;\n",
              "      box-shadow: 0px 1px 2px rgba(60, 64, 67, 0.3), 0px 1px 3px 1px rgba(60, 64, 67, 0.15);\n",
              "      fill: #174EA6;\n",
              "    }\n",
              "\n",
              "    [theme=dark] .colab-df-convert {\n",
              "      background-color: #3B4455;\n",
              "      fill: #D2E3FC;\n",
              "    }\n",
              "\n",
              "    [theme=dark] .colab-df-convert:hover {\n",
              "      background-color: #434B5C;\n",
              "      box-shadow: 0px 1px 3px 1px rgba(0, 0, 0, 0.15);\n",
              "      filter: drop-shadow(0px 1px 2px rgba(0, 0, 0, 0.3));\n",
              "      fill: #FFFFFF;\n",
              "    }\n",
              "  </style>\n",
              "\n",
              "      <script>\n",
              "        const buttonEl =\n",
              "          document.querySelector('#df-96e7fc01-5f55-4ba9-b3ec-97e48b2c254d button.colab-df-convert');\n",
              "        buttonEl.style.display =\n",
              "          google.colab.kernel.accessAllowed ? 'block' : 'none';\n",
              "\n",
              "        async function convertToInteractive(key) {\n",
              "          const element = document.querySelector('#df-96e7fc01-5f55-4ba9-b3ec-97e48b2c254d');\n",
              "          const dataTable =\n",
              "            await google.colab.kernel.invokeFunction('convertToInteractive',\n",
              "                                                     [key], {});\n",
              "          if (!dataTable) return;\n",
              "\n",
              "          const docLinkHtml = 'Like what you see? Visit the ' +\n",
              "            '<a target=\"_blank\" href=https://colab.research.google.com/notebooks/data_table.ipynb>data table notebook</a>'\n",
              "            + ' to learn more about interactive tables.';\n",
              "          element.innerHTML = '';\n",
              "          dataTable['output_type'] = 'display_data';\n",
              "          await google.colab.output.renderOutput(dataTable, element);\n",
              "          const docLink = document.createElement('div');\n",
              "          docLink.innerHTML = docLinkHtml;\n",
              "          element.appendChild(docLink);\n",
              "        }\n",
              "      </script>\n",
              "    </div>\n",
              "  </div>\n",
              "  "
            ]
          },
          "metadata": {},
          "execution_count": 48
        }
      ]
    },
    {
      "cell_type": "code",
      "source": [
        "pred_df[\"pred_correct\"] = pred_df[\"y_true\"] == pred_df[\"y_pred\"]\n",
        "pred_df.sort_values('pred_correct', ascending=False) #we could further sort to find specific images that had a high confidence but was incorrect"
      ],
      "metadata": {
        "colab": {
          "base_uri": "https://localhost:8080/",
          "height": 424
        },
        "id": "BZNfLHApHgqa",
        "outputId": "61c6b87e-9147-406d-ab99-c9d81243312b"
      },
      "execution_count": 53,
      "outputs": [
        {
          "output_type": "execute_result",
          "data": {
            "text/plain": [
              "                                               img_path  y_true  y_pred  \\\n",
              "1317  b'/content/10_food_classes_10_percent/test/ice...       7       7   \n",
              "1995  b'/content/10_food_classes_10_percent/test/ram...       4       4   \n",
              "247   b'/content/10_food_classes_10_percent/test/chi...       5       5   \n",
              "1993  b'/content/10_food_classes_10_percent/test/ram...       5       5   \n",
              "1739  b'/content/10_food_classes_10_percent/test/piz...       4       4   \n",
              "...                                                 ...     ...     ...   \n",
              "882   b'/content/10_food_classes_10_percent/test/gri...       9       3   \n",
              "883   b'/content/10_food_classes_10_percent/test/gri...       1       6   \n",
              "884   b'/content/10_food_classes_10_percent/test/gri...       7       2   \n",
              "885   b'/content/10_food_classes_10_percent/test/gri...       0       1   \n",
              "2499  b'/content/10_food_classes_10_percent/test/sus...       2       4   \n",
              "\n",
              "      pred_conf  pred_correct  \n",
              "1317   0.952363          True  \n",
              "1995   0.508128          True  \n",
              "247    0.920422          True  \n",
              "1993   0.961611          True  \n",
              "1739   0.874010          True  \n",
              "...         ...           ...  \n",
              "882    0.555777         False  \n",
              "883    0.442284         False  \n",
              "884    0.871278         False  \n",
              "885    0.988663         False  \n",
              "2499   0.989775         False  \n",
              "\n",
              "[2500 rows x 5 columns]"
            ],
            "text/html": [
              "\n",
              "  <div id=\"df-da8b104f-c499-4d0b-beb0-5901faf06fff\">\n",
              "    <div class=\"colab-df-container\">\n",
              "      <div>\n",
              "<style scoped>\n",
              "    .dataframe tbody tr th:only-of-type {\n",
              "        vertical-align: middle;\n",
              "    }\n",
              "\n",
              "    .dataframe tbody tr th {\n",
              "        vertical-align: top;\n",
              "    }\n",
              "\n",
              "    .dataframe thead th {\n",
              "        text-align: right;\n",
              "    }\n",
              "</style>\n",
              "<table border=\"1\" class=\"dataframe\">\n",
              "  <thead>\n",
              "    <tr style=\"text-align: right;\">\n",
              "      <th></th>\n",
              "      <th>img_path</th>\n",
              "      <th>y_true</th>\n",
              "      <th>y_pred</th>\n",
              "      <th>pred_conf</th>\n",
              "      <th>pred_correct</th>\n",
              "    </tr>\n",
              "  </thead>\n",
              "  <tbody>\n",
              "    <tr>\n",
              "      <th>1317</th>\n",
              "      <td>b'/content/10_food_classes_10_percent/test/ice...</td>\n",
              "      <td>7</td>\n",
              "      <td>7</td>\n",
              "      <td>0.952363</td>\n",
              "      <td>True</td>\n",
              "    </tr>\n",
              "    <tr>\n",
              "      <th>1995</th>\n",
              "      <td>b'/content/10_food_classes_10_percent/test/ram...</td>\n",
              "      <td>4</td>\n",
              "      <td>4</td>\n",
              "      <td>0.508128</td>\n",
              "      <td>True</td>\n",
              "    </tr>\n",
              "    <tr>\n",
              "      <th>247</th>\n",
              "      <td>b'/content/10_food_classes_10_percent/test/chi...</td>\n",
              "      <td>5</td>\n",
              "      <td>5</td>\n",
              "      <td>0.920422</td>\n",
              "      <td>True</td>\n",
              "    </tr>\n",
              "    <tr>\n",
              "      <th>1993</th>\n",
              "      <td>b'/content/10_food_classes_10_percent/test/ram...</td>\n",
              "      <td>5</td>\n",
              "      <td>5</td>\n",
              "      <td>0.961611</td>\n",
              "      <td>True</td>\n",
              "    </tr>\n",
              "    <tr>\n",
              "      <th>1739</th>\n",
              "      <td>b'/content/10_food_classes_10_percent/test/piz...</td>\n",
              "      <td>4</td>\n",
              "      <td>4</td>\n",
              "      <td>0.874010</td>\n",
              "      <td>True</td>\n",
              "    </tr>\n",
              "    <tr>\n",
              "      <th>...</th>\n",
              "      <td>...</td>\n",
              "      <td>...</td>\n",
              "      <td>...</td>\n",
              "      <td>...</td>\n",
              "      <td>...</td>\n",
              "    </tr>\n",
              "    <tr>\n",
              "      <th>882</th>\n",
              "      <td>b'/content/10_food_classes_10_percent/test/gri...</td>\n",
              "      <td>9</td>\n",
              "      <td>3</td>\n",
              "      <td>0.555777</td>\n",
              "      <td>False</td>\n",
              "    </tr>\n",
              "    <tr>\n",
              "      <th>883</th>\n",
              "      <td>b'/content/10_food_classes_10_percent/test/gri...</td>\n",
              "      <td>1</td>\n",
              "      <td>6</td>\n",
              "      <td>0.442284</td>\n",
              "      <td>False</td>\n",
              "    </tr>\n",
              "    <tr>\n",
              "      <th>884</th>\n",
              "      <td>b'/content/10_food_classes_10_percent/test/gri...</td>\n",
              "      <td>7</td>\n",
              "      <td>2</td>\n",
              "      <td>0.871278</td>\n",
              "      <td>False</td>\n",
              "    </tr>\n",
              "    <tr>\n",
              "      <th>885</th>\n",
              "      <td>b'/content/10_food_classes_10_percent/test/gri...</td>\n",
              "      <td>0</td>\n",
              "      <td>1</td>\n",
              "      <td>0.988663</td>\n",
              "      <td>False</td>\n",
              "    </tr>\n",
              "    <tr>\n",
              "      <th>2499</th>\n",
              "      <td>b'/content/10_food_classes_10_percent/test/sus...</td>\n",
              "      <td>2</td>\n",
              "      <td>4</td>\n",
              "      <td>0.989775</td>\n",
              "      <td>False</td>\n",
              "    </tr>\n",
              "  </tbody>\n",
              "</table>\n",
              "<p>2500 rows × 5 columns</p>\n",
              "</div>\n",
              "      <button class=\"colab-df-convert\" onclick=\"convertToInteractive('df-da8b104f-c499-4d0b-beb0-5901faf06fff')\"\n",
              "              title=\"Convert this dataframe to an interactive table.\"\n",
              "              style=\"display:none;\">\n",
              "        \n",
              "  <svg xmlns=\"http://www.w3.org/2000/svg\" height=\"24px\"viewBox=\"0 0 24 24\"\n",
              "       width=\"24px\">\n",
              "    <path d=\"M0 0h24v24H0V0z\" fill=\"none\"/>\n",
              "    <path d=\"M18.56 5.44l.94 2.06.94-2.06 2.06-.94-2.06-.94-.94-2.06-.94 2.06-2.06.94zm-11 1L8.5 8.5l.94-2.06 2.06-.94-2.06-.94L8.5 2.5l-.94 2.06-2.06.94zm10 10l.94 2.06.94-2.06 2.06-.94-2.06-.94-.94-2.06-.94 2.06-2.06.94z\"/><path d=\"M17.41 7.96l-1.37-1.37c-.4-.4-.92-.59-1.43-.59-.52 0-1.04.2-1.43.59L10.3 9.45l-7.72 7.72c-.78.78-.78 2.05 0 2.83L4 21.41c.39.39.9.59 1.41.59.51 0 1.02-.2 1.41-.59l7.78-7.78 2.81-2.81c.8-.78.8-2.07 0-2.86zM5.41 20L4 18.59l7.72-7.72 1.47 1.35L5.41 20z\"/>\n",
              "  </svg>\n",
              "      </button>\n",
              "      \n",
              "  <style>\n",
              "    .colab-df-container {\n",
              "      display:flex;\n",
              "      flex-wrap:wrap;\n",
              "      gap: 12px;\n",
              "    }\n",
              "\n",
              "    .colab-df-convert {\n",
              "      background-color: #E8F0FE;\n",
              "      border: none;\n",
              "      border-radius: 50%;\n",
              "      cursor: pointer;\n",
              "      display: none;\n",
              "      fill: #1967D2;\n",
              "      height: 32px;\n",
              "      padding: 0 0 0 0;\n",
              "      width: 32px;\n",
              "    }\n",
              "\n",
              "    .colab-df-convert:hover {\n",
              "      background-color: #E2EBFA;\n",
              "      box-shadow: 0px 1px 2px rgba(60, 64, 67, 0.3), 0px 1px 3px 1px rgba(60, 64, 67, 0.15);\n",
              "      fill: #174EA6;\n",
              "    }\n",
              "\n",
              "    [theme=dark] .colab-df-convert {\n",
              "      background-color: #3B4455;\n",
              "      fill: #D2E3FC;\n",
              "    }\n",
              "\n",
              "    [theme=dark] .colab-df-convert:hover {\n",
              "      background-color: #434B5C;\n",
              "      box-shadow: 0px 1px 3px 1px rgba(0, 0, 0, 0.15);\n",
              "      filter: drop-shadow(0px 1px 2px rgba(0, 0, 0, 0.3));\n",
              "      fill: #FFFFFF;\n",
              "    }\n",
              "  </style>\n",
              "\n",
              "      <script>\n",
              "        const buttonEl =\n",
              "          document.querySelector('#df-da8b104f-c499-4d0b-beb0-5901faf06fff button.colab-df-convert');\n",
              "        buttonEl.style.display =\n",
              "          google.colab.kernel.accessAllowed ? 'block' : 'none';\n",
              "\n",
              "        async function convertToInteractive(key) {\n",
              "          const element = document.querySelector('#df-da8b104f-c499-4d0b-beb0-5901faf06fff');\n",
              "          const dataTable =\n",
              "            await google.colab.kernel.invokeFunction('convertToInteractive',\n",
              "                                                     [key], {});\n",
              "          if (!dataTable) return;\n",
              "\n",
              "          const docLinkHtml = 'Like what you see? Visit the ' +\n",
              "            '<a target=\"_blank\" href=https://colab.research.google.com/notebooks/data_table.ipynb>data table notebook</a>'\n",
              "            + ' to learn more about interactive tables.';\n",
              "          element.innerHTML = '';\n",
              "          dataTable['output_type'] = 'display_data';\n",
              "          await google.colab.output.renderOutput(dataTable, element);\n",
              "          const docLink = document.createElement('div');\n",
              "          docLink.innerHTML = docLinkHtml;\n",
              "          element.appendChild(docLink);\n",
              "        }\n",
              "      </script>\n",
              "    </div>\n",
              "  </div>\n",
              "  "
            ]
          },
          "metadata": {},
          "execution_count": 53
        }
      ]
    },
    {
      "cell_type": "code",
      "source": [
        ""
      ],
      "metadata": {
        "id": "BObRI5hwIK7e"
      },
      "execution_count": null,
      "outputs": []
    }
  ]
}